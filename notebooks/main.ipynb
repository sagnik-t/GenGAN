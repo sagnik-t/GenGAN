{
 "cells": [
  {
   "cell_type": "code",
   "execution_count": 87,
   "metadata": {},
   "outputs": [],
   "source": [
    "import numpy as np\n",
    "import pandas as pd\n",
    "import tensorflow as tf\n",
    "import keras\n",
    "from keras import Sequential, Model, Layer, layers, optimizers, losses, metrics, regularizers, callbacks\n",
    "from matplotlib import pyplot as plt\n",
    "import mplcyberpunk as mplnk"
   ]
  },
  {
   "cell_type": "code",
   "execution_count": 88,
   "metadata": {},
   "outputs": [],
   "source": [
    "import warnings\n",
    "warnings.filterwarnings('ignore')\n",
    "warnings.filterwarnings('always')"
   ]
  },
  {
   "cell_type": "code",
   "execution_count": 89,
   "metadata": {},
   "outputs": [],
   "source": [
    "from config import Config\n",
    "from utils.data_loader import DataLoader"
   ]
  },
  {
   "cell_type": "code",
   "execution_count": 90,
   "metadata": {},
   "outputs": [],
   "source": [
    "train_df = DataLoader().load_train_data()"
   ]
  },
  {
   "cell_type": "code",
   "execution_count": 91,
   "metadata": {},
   "outputs": [
    {
     "data": {
      "text/html": [
       "<div>\n",
       "<style scoped>\n",
       "    .dataframe tbody tr th:only-of-type {\n",
       "        vertical-align: middle;\n",
       "    }\n",
       "\n",
       "    .dataframe tbody tr th {\n",
       "        vertical-align: top;\n",
       "    }\n",
       "\n",
       "    .dataframe thead th {\n",
       "        text-align: right;\n",
       "    }\n",
       "</style>\n",
       "<table border=\"1\" class=\"dataframe\">\n",
       "  <thead>\n",
       "    <tr style=\"text-align: right;\">\n",
       "      <th></th>\n",
       "      <th>user_id</th>\n",
       "      <th>item_id</th>\n",
       "      <th>rating</th>\n",
       "    </tr>\n",
       "  </thead>\n",
       "  <tbody>\n",
       "    <tr>\n",
       "      <th>0</th>\n",
       "      <td>716</td>\n",
       "      <td>836</td>\n",
       "      <td>4</td>\n",
       "    </tr>\n",
       "    <tr>\n",
       "      <th>1</th>\n",
       "      <td>620</td>\n",
       "      <td>422</td>\n",
       "      <td>1</td>\n",
       "    </tr>\n",
       "    <tr>\n",
       "      <th>2</th>\n",
       "      <td>547</td>\n",
       "      <td>289</td>\n",
       "      <td>3</td>\n",
       "    </tr>\n",
       "    <tr>\n",
       "      <th>3</th>\n",
       "      <td>758</td>\n",
       "      <td>385</td>\n",
       "      <td>4</td>\n",
       "    </tr>\n",
       "    <tr>\n",
       "      <th>4</th>\n",
       "      <td>627</td>\n",
       "      <td>197</td>\n",
       "      <td>5</td>\n",
       "    </tr>\n",
       "    <tr>\n",
       "      <th>...</th>\n",
       "      <td>...</td>\n",
       "      <td>...</td>\n",
       "      <td>...</td>\n",
       "    </tr>\n",
       "    <tr>\n",
       "      <th>79995</th>\n",
       "      <td>336</td>\n",
       "      <td>628</td>\n",
       "      <td>3</td>\n",
       "    </tr>\n",
       "    <tr>\n",
       "      <th>79996</th>\n",
       "      <td>749</td>\n",
       "      <td>637</td>\n",
       "      <td>1</td>\n",
       "    </tr>\n",
       "    <tr>\n",
       "      <th>79997</th>\n",
       "      <td>758</td>\n",
       "      <td>313</td>\n",
       "      <td>4</td>\n",
       "    </tr>\n",
       "    <tr>\n",
       "      <th>79998</th>\n",
       "      <td>380</td>\n",
       "      <td>139</td>\n",
       "      <td>1</td>\n",
       "    </tr>\n",
       "    <tr>\n",
       "      <th>79999</th>\n",
       "      <td>231</td>\n",
       "      <td>151</td>\n",
       "      <td>1</td>\n",
       "    </tr>\n",
       "  </tbody>\n",
       "</table>\n",
       "<p>80000 rows × 3 columns</p>\n",
       "</div>"
      ],
      "text/plain": [
       "       user_id  item_id  rating\n",
       "0          716      836       4\n",
       "1          620      422       1\n",
       "2          547      289       3\n",
       "3          758      385       4\n",
       "4          627      197       5\n",
       "...        ...      ...     ...\n",
       "79995      336      628       3\n",
       "79996      749      637       1\n",
       "79997      758      313       4\n",
       "79998      380      139       1\n",
       "79999      231      151       1\n",
       "\n",
       "[80000 rows x 3 columns]"
      ]
     },
     "execution_count": 91,
     "metadata": {},
     "output_type": "execute_result"
    }
   ],
   "source": [
    "train_df"
   ]
  },
  {
   "cell_type": "code",
   "execution_count": 92,
   "metadata": {},
   "outputs": [],
   "source": [
    "plt.style.use('cyberpunk')"
   ]
  },
  {
   "cell_type": "code",
   "execution_count": 93,
   "metadata": {},
   "outputs": [],
   "source": [
    "def plot_ratings_distribution(df):\n",
    "    plt.figure(figsize=(10, 5))\n",
    "\n",
    "    value_counts = df['rating'].value_counts()\n",
    "    bars = plt.bar(x=value_counts.index, height=value_counts.values)\n",
    "    percantages = value_counts / value_counts.sum() * 100\n",
    "\n",
    "    font_dict = {\n",
    "        'fontweight': 'normal',\n",
    "        'fontfamily': 'sans-serif',\n",
    "        'fontsize': 10,\n",
    "        'color': 'white'\n",
    "    }\n",
    "\n",
    "    for bar, percantage in zip(bars, percantages):\n",
    "        height = bar.get_height()\n",
    "        plt.text(bar.get_x() + bar.get_width() / 2, height, f'{percantage:.2f}%', ha='center', va='bottom', fontdict=font_dict)\n",
    "\n",
    "    mplnk.add_bar_gradient(bars)\n",
    "\n",
    "    plt.xlabel('Rating', fontweight='bold')\n",
    "    plt.show()"
   ]
  },
  {
   "cell_type": "code",
   "execution_count": 94,
   "metadata": {},
   "outputs": [
    {
     "data": {
      "image/png": "[encoded data removed]",
      "text/plain": [
       "<Figure size 1000x500 with 1 Axes>"
      ]
     },
     "metadata": {},
     "output_type": "display_data"
    }
   ],
   "source": [
    "plot_ratings_distribution(train_df)"
   ]
  },
  {
   "cell_type": "code",
   "execution_count": 95,
   "metadata": {},
   "outputs": [],
   "source": [
    "val_df = DataLoader().load_val_data()"
   ]
  },
  {
   "cell_type": "code",
   "execution_count": 96,
   "metadata": {},
   "outputs": [
    {
     "data": {
      "text/html": [
       "<div>\n",
       "<style scoped>\n",
       "    .dataframe tbody tr th:only-of-type {\n",
       "        vertical-align: middle;\n",
       "    }\n",
       "\n",
       "    .dataframe tbody tr th {\n",
       "        vertical-align: top;\n",
       "    }\n",
       "\n",
       "    .dataframe thead th {\n",
       "        text-align: right;\n",
       "    }\n",
       "</style>\n",
       "<table border=\"1\" class=\"dataframe\">\n",
       "  <thead>\n",
       "    <tr style=\"text-align: right;\">\n",
       "      <th></th>\n",
       "      <th>user_id</th>\n",
       "      <th>item_id</th>\n",
       "      <th>rating</th>\n",
       "    </tr>\n",
       "  </thead>\n",
       "  <tbody>\n",
       "    <tr>\n",
       "      <th>0</th>\n",
       "      <td>655</td>\n",
       "      <td>911</td>\n",
       "      <td>2</td>\n",
       "    </tr>\n",
       "    <tr>\n",
       "      <th>1</th>\n",
       "      <td>200</td>\n",
       "      <td>88</td>\n",
       "      <td>4</td>\n",
       "    </tr>\n",
       "    <tr>\n",
       "      <th>2</th>\n",
       "      <td>763</td>\n",
       "      <td>607</td>\n",
       "      <td>4</td>\n",
       "    </tr>\n",
       "    <tr>\n",
       "      <th>3</th>\n",
       "      <td>500</td>\n",
       "      <td>714</td>\n",
       "      <td>2</td>\n",
       "    </tr>\n",
       "    <tr>\n",
       "      <th>4</th>\n",
       "      <td>690</td>\n",
       "      <td>163</td>\n",
       "      <td>3</td>\n",
       "    </tr>\n",
       "    <tr>\n",
       "      <th>...</th>\n",
       "      <td>...</td>\n",
       "      <td>...</td>\n",
       "      <td>...</td>\n",
       "    </tr>\n",
       "    <tr>\n",
       "      <th>19995</th>\n",
       "      <td>932</td>\n",
       "      <td>38</td>\n",
       "      <td>2</td>\n",
       "    </tr>\n",
       "    <tr>\n",
       "      <th>19996</th>\n",
       "      <td>154</td>\n",
       "      <td>874</td>\n",
       "      <td>3</td>\n",
       "    </tr>\n",
       "    <tr>\n",
       "      <th>19997</th>\n",
       "      <td>527</td>\n",
       "      <td>425</td>\n",
       "      <td>4</td>\n",
       "    </tr>\n",
       "    <tr>\n",
       "      <th>19998</th>\n",
       "      <td>464</td>\n",
       "      <td>333</td>\n",
       "      <td>4</td>\n",
       "    </tr>\n",
       "    <tr>\n",
       "      <th>19999</th>\n",
       "      <td>805</td>\n",
       "      <td>117</td>\n",
       "      <td>3</td>\n",
       "    </tr>\n",
       "  </tbody>\n",
       "</table>\n",
       "<p>20000 rows × 3 columns</p>\n",
       "</div>"
      ],
      "text/plain": [
       "       user_id  item_id  rating\n",
       "0          655      911       2\n",
       "1          200       88       4\n",
       "2          763      607       4\n",
       "3          500      714       2\n",
       "4          690      163       3\n",
       "...        ...      ...     ...\n",
       "19995      932       38       2\n",
       "19996      154      874       3\n",
       "19997      527      425       4\n",
       "19998      464      333       4\n",
       "19999      805      117       3\n",
       "\n",
       "[20000 rows x 3 columns]"
      ]
     },
     "execution_count": 96,
     "metadata": {},
     "output_type": "execute_result"
    }
   ],
   "source": [
    "val_df"
   ]
  },
  {
   "cell_type": "code",
   "execution_count": 97,
   "metadata": {},
   "outputs": [],
   "source": [
    "x_train, x_test, y_train, y_test = train_df.values, val_df.values, train_df['rating'].values, val_df['rating'].values"
   ]
  },
  {
   "cell_type": "code",
   "execution_count": 98,
   "metadata": {},
   "outputs": [
    {
     "data": {
      "text/plain": [
       "(80000, 3)"
      ]
     },
     "execution_count": 98,
     "metadata": {},
     "output_type": "execute_result"
    }
   ],
   "source": [
    "x_train.shape"
   ]
  },
  {
   "cell_type": "code",
   "execution_count": 99,
   "metadata": {},
   "outputs": [],
   "source": [
    "class MinMaxNormalization(Layer):\n",
    "    \n",
    "    def __init__(self, min_val, max_val, **kwargs):\n",
    "        super().__init__(**kwargs)\n",
    "        self.min_val = min_val\n",
    "        self.max_val = max_val\n",
    "        scalar = lambda x: ((x - tf.reduce_min(x)) / (tf.reduce_max(x) - tf.reduce_min(x))) * (max_val - min_val) + min_val\n",
    "        self.lambda_layer = layers.Lambda(scalar)\n",
    "        \n",
    "    def call(self, inputs):\n",
    "        return self.lambda_layer(inputs)"
   ]
  },
  {
   "cell_type": "code",
   "execution_count": 100,
   "metadata": {},
   "outputs": [],
   "source": [
    "class Split(Layer):\n",
    "    \n",
    "    def __init__(self, **kwargs):\n",
    "        super().__init__(**kwargs)\n",
    "    \n",
    "    def call(self, inputs):\n",
    "        if isinstance(inputs, tuple) or isinstance(inputs, list):\n",
    "            inputs = tf.stack(inputs, axis=1)\n",
    "        user_id, item_id, rating = tf.split(inputs, num_or_size_splits=3, axis=1)\n",
    "        layers.Reshape(target_shape=(1,))(user_id)\n",
    "        layers.Reshape(target_shape=(1,))(item_id)\n",
    "        layers.Reshape(target_shape=(1,))(rating)\n",
    "        return user_id, item_id, rating"
   ]
  },
  {
   "cell_type": "code",
   "execution_count": 101,
   "metadata": {},
   "outputs": [],
   "source": [
    "class DeepMF(Model):\n",
    "    \n",
    "    def __init__(\n",
    "        self,\n",
    "        latent_dim:int = 5, \n",
    "        num_users:int = Config.Vars.NUM_USERS,\n",
    "        num_items:int = Config.Vars.NUM_ITEMS,\n",
    "        **kwargs\n",
    "    ):\n",
    "        super().__init__(**kwargs)\n",
    "        self.latent_dim = latent_dim\n",
    "        self.num_users = num_users\n",
    "        self.num_items = num_items\n",
    "        self.split = Split(name='split')\n",
    "        self.rating = layers.Identity(name='rating')\n",
    "        self.user_embedding = layers.Embedding(self.num_users + 1, self.latent_dim, name='user_embedding')\n",
    "        self.user_flatten = layers.Flatten(name='user_flatten')\n",
    "        self.item_embedding = layers.Embedding(self.num_items + 1, self.latent_dim, name='item_embedding')\n",
    "        self.item_flatten = layers.Flatten(name='item_flatten')\n",
    "        self.dot = layers.Dot(axes=1, name='dot')\n",
    "        self.concatenate1 = layers.Concatenate(axis=1, name='concatenate1')\n",
    "        # self.norm = MinMaxNormalization(min_val=-.25, max_val=.25, name='normalize')\n",
    "        self.reshape = layers.Reshape(target_shape=(-1,), name='reshape')\n",
    "        self.concatenate2 = layers.Concatenate(axis=1, name='concatenate2')\n",
    "    \n",
    "    def call(self, inputs):\n",
    "        user_id, item_id, ratings = self.split(inputs)\n",
    "        user_emb = self.user_embedding(user_id)\n",
    "        user_emb = self.user_flatten(user_emb)\n",
    "        item_emb = self.item_embedding(item_id)\n",
    "        item_emb = self.item_flatten(item_emb)\n",
    "        rating_vec = self.dot([user_emb, item_emb])\n",
    "        embeddings = self.concatenate1([user_emb, item_emb])\n",
    "        norm_ratings = self.rating(ratings)\n",
    "        # norm_ratings = self.norm(ratings)\n",
    "        norm_ratings = self.reshape(norm_ratings)\n",
    "        embedded_data = self.concatenate2([embeddings, norm_ratings])\n",
    "        return rating_vec, embedded_data\n",
    "    \n",
    "    def predict(self, x):\n",
    "        _, embedded_data = self.call(x)\n",
    "        return embedded_data\n",
    "    \n",
    "    def train_step(self, data):\n",
    "        inputs, output = data\n",
    "        \n",
    "        with tf.GradientTape() as tape:\n",
    "            rating_vec, _ = self.call(inputs)\n",
    "            loss = self.compute_loss(y=output, y_pred=rating_vec)\n",
    "            \n",
    "        grads = tape.gradient(loss, self.trainable_weights)\n",
    "        self.optimizer.apply_gradients(zip(grads, self.trainable_weights))\n",
    "        \n",
    "        return {\n",
    "            'mse_loss': loss,\n",
    "            **self.compute_metrics(x=inputs[0], y=output, y_pred=rating_vec)\n",
    "        }\n",
    "    \n",
    "    def summary(self):\n",
    "        model = self.build_graph()\n",
    "        return model.summary()\n",
    "    \n",
    "    def build_graph(self):\n",
    "        x = (layers.Input(shape=(3,)))\n",
    "        return Model(inputs=x, outputs=self.call(x))"
   ]
  },
  {
   "cell_type": "code",
   "execution_count": 102,
   "metadata": {},
   "outputs": [],
   "source": [
    "deepmf = DeepMF()\n",
    "deepmf.compile(\n",
    "    optimizer=optimizers.Adam(),\n",
    "    loss=losses.MeanSquaredError(),\n",
    "    metrics=[metrics.R2Score()]\n",
    ")"
   ]
  },
  {
   "cell_type": "code",
   "execution_count": 103,
   "metadata": {},
   "outputs": [
    {
     "name": "stdout",
     "output_type": "stream",
     "text": [
      "Epoch 1/10\n",
      "\u001b[1m2500/2500\u001b[0m \u001b[32m━━━━━━━━━━━━━━━━━━━━\u001b[0m\u001b[37m\u001b[0m \u001b[1m3s\u001b[0m 860us/step - loss: 0.0000e+00 - mse_loss: 11.5859 - r2_score: -9.5025\n",
      "Epoch 2/10\n",
      "\u001b[1m2500/2500\u001b[0m \u001b[32m━━━━━━━━━━━━━━━━━━━━\u001b[0m\u001b[37m\u001b[0m \u001b[1m2s\u001b[0m 641us/step - loss: 0.0000e+00 - mse_loss: 3.2735 - r2_score: -2.4667\n",
      "Epoch 3/10\n",
      "\u001b[1m2500/2500\u001b[0m \u001b[32m━━━━━━━━━━━━━━━━━━━━\u001b[0m\u001b[37m\u001b[0m \u001b[1m2s\u001b[0m 981us/step - loss: 0.0000e+00 - mse_loss: 1.4866 - r2_score: -0.3062 - val_loss: 1.2678 - val_r2_score: -0.0027\n",
      "Epoch 4/10\n",
      "\u001b[1m2500/2500\u001b[0m \u001b[32m━━━━━━━━━━━━━━━━━━━━\u001b[0m\u001b[37m\u001b[0m \u001b[1m2s\u001b[0m 844us/step - loss: 0.0000e+00 - mse_loss: 1.1082 - r2_score: 0.0873\n",
      "Epoch 5/10\n",
      "\u001b[1m2500/2500\u001b[0m \u001b[32m━━━━━━━━━━━━━━━━━━━━\u001b[0m\u001b[37m\u001b[0m \u001b[1m2s\u001b[0m 606us/step - loss: 0.0000e+00 - mse_loss: 0.9812 - r2_score: 0.2193\n",
      "Epoch 6/10\n",
      "\u001b[1m2500/2500\u001b[0m \u001b[32m━━━━━━━━━━━━━━━━━━━━\u001b[0m\u001b[37m\u001b[0m \u001b[1m2s\u001b[0m 752us/step - loss: 0.0000e+00 - mse_loss: 0.9304 - r2_score: 0.2679 - val_loss: 0.9490 - val_r2_score: 0.2494\n",
      "Epoch 7/10\n",
      "\u001b[1m2500/2500\u001b[0m \u001b[32m━━━━━━━━━━━━━━━━━━━━\u001b[0m\u001b[37m\u001b[0m \u001b[1m1s\u001b[0m 591us/step - loss: 0.0000e+00 - mse_loss: 0.9061 - r2_score: 0.2929\n",
      "Epoch 8/10\n",
      "\u001b[1m2500/2500\u001b[0m \u001b[32m━━━━━━━━━━━━━━━━━━━━\u001b[0m\u001b[37m\u001b[0m \u001b[1m1s\u001b[0m 589us/step - loss: 0.0000e+00 - mse_loss: 0.8927 - r2_score: 0.3041\n",
      "Epoch 9/10\n",
      "\u001b[1m2500/2500\u001b[0m \u001b[32m━━━━━━━━━━━━━━━━━━━━\u001b[0m\u001b[37m\u001b[0m \u001b[1m2s\u001b[0m 837us/step - loss: 0.0000e+00 - mse_loss: 0.8840 - r2_score: 0.3110 - val_loss: 0.9142 - val_r2_score: 0.2770\n",
      "Epoch 10/10\n",
      "\u001b[1m2500/2500\u001b[0m \u001b[32m━━━━━━━━━━━━━━━━━━━━\u001b[0m\u001b[37m\u001b[0m \u001b[1m2s\u001b[0m 697us/step - loss: 0.0000e+00 - mse_loss: 0.8778 - r2_score: 0.3136\n"
     ]
    },
    {
     "data": {
      "text/plain": [
       "<keras.src.callbacks.history.History at 0x711834f82190>"
      ]
     },
     "execution_count": 103,
     "metadata": {},
     "output_type": "execute_result"
    }
   ],
   "source": [
    "deepmf.fit(\n",
    "    [x_train[:, 0], x_train[:, 1], x_train[:, 2]],\n",
    "    y_train,\n",
    "    validation_data=([x_test[:, 0], x_test[:, 1], x_test[:, 2]], y_test),\n",
    "    epochs=10,\n",
    "    batch_size=32,\n",
    "    validation_freq=3\n",
    ")"
   ]
  },
  {
   "cell_type": "code",
   "execution_count": 104,
   "metadata": {},
   "outputs": [
    {
     "data": {
      "text/plain": [
       "TensorShape([80000, 11])"
      ]
     },
     "execution_count": 104,
     "metadata": {},
     "output_type": "execute_result"
    }
   ],
   "source": [
    "embedded_data = deepmf.predict([x_train[:, 0], x_train[:, 1], x_train[:, 2]])\n",
    "embedded_data.shape"
   ]
  },
  {
   "cell_type": "code",
   "execution_count": 105,
   "metadata": {},
   "outputs": [],
   "source": [
    "@keras.utils.register_keras_serializable(package='Custom', name='GAN')\n",
    "class GAN(Model):\n",
    "    \n",
    "    def __init__(\n",
    "        self,\n",
    "        generator: Model,\n",
    "        discriminator: Model,\n",
    "        noise_dim: int = 100,\n",
    "        **kwargs\n",
    "    ):\n",
    "        super(GAN, self).__init__(**kwargs)\n",
    "        self.noise_dim = noise_dim\n",
    "        self.generator = generator\n",
    "        self.discriminator = discriminator\n",
    "    \n",
    "    def call(self, inputs, training=False):\n",
    "        noise_vec, input_tensor = inputs\n",
    "        \n",
    "        gen_tensor = self.generator(noise_vec, training=True)\n",
    "        \n",
    "        real_output = self.discriminator(input_tensor, training=True)\n",
    "        gen_output = self.discriminator(gen_tensor, training=True)\n",
    "        \n",
    "        return gen_tensor, real_output, gen_output\n",
    "    \n",
    "    def compile(\n",
    "        self,\n",
    "        gen_optimizer: keras.Optimizer,\n",
    "        disc_optimizer: keras.Optimizer,\n",
    "        **kwargs\n",
    "    ):\n",
    "        super(GAN, self).compile(**kwargs)\n",
    "        self.gen_optimizer = gen_optimizer\n",
    "        self.disc_optimizer = disc_optimizer\n",
    "    \n",
    "    def compute_loss(self, x=None, y=None, y_pred=None, sample_weight=None):\n",
    "        _, real_output, gen_output = y_pred\n",
    "        \n",
    "        gen_loss = losses.binary_crossentropy(tf.ones_like(gen_output), gen_output)\n",
    "        disc_loss = losses.binary_crossentropy(tf.ones_like(real_output), real_output) + losses.binary_crossentropy(tf.zeros_like(gen_output), gen_output)\n",
    "        \n",
    "        return {\n",
    "            'gen_loss': gen_loss,\n",
    "            'disc_loss': disc_loss\n",
    "        }\n",
    "    \n",
    "    def train_step(self, inputs):\n",
    "        \n",
    "        noise_vec = tf.random.normal((tf.shape(inputs)[0], self.noise_dim))\n",
    "        \n",
    "        with tf.GradientTape() as gen_tape, tf.GradientTape() as disc_tape:\n",
    "            _, real_output, gen_output = self.call(inputs=(noise_vec, inputs), training=True)\n",
    "            loss = self.compute_loss(y_pred=[inputs, real_output, gen_output])\n",
    "        \n",
    "        gen_grads = gen_tape.gradient(loss['gen_loss'], self.generator.trainable_weights)\n",
    "        disc_grads = disc_tape.gradient(loss['disc_loss'], self.discriminator.trainable_weights)\n",
    "        \n",
    "        self.gen_optimizer.apply_gradients(zip(gen_grads, self.generator.trainable_weights))\n",
    "        self.disc_optimizer.apply_gradients(zip(disc_grads, self.discriminator.trainable_weights))\n",
    "        \n",
    "        return {\n",
    "            'gen_loss': loss['gen_loss'],\n",
    "            'disc_loss': loss['disc_loss']\n",
    "        }\n",
    "    \n",
    "    def predict(self, x):\n",
    "        return self.generator(x)\n",
    "    \n",
    "    def summary(self, **kwargs):\n",
    "        model = self.build_graph()\n",
    "        return model.summary(**kwargs)\n",
    "    \n",
    "    def build_graph(self):\n",
    "        if isinstance(self.discriminator, keras.src.models.Functional):\n",
    "            input_shape = self.discriminator.layers[1].input.shape[1:]\n",
    "        else:\n",
    "            input_shape = self.discriminator.layers[0].input.shape[0:]\n",
    "        \n",
    "        input_tensor = layers.Input(shape=input_shape)\n",
    "        noise_vec = layers.Input(shape=(self.noise_dim,))\n",
    "        \n",
    "        return Model(inputs=[noise_vec, input_tensor], outputs=self.call((noise_vec, input_tensor)))"
   ]
  },
  {
   "cell_type": "code",
   "execution_count": 106,
   "metadata": {},
   "outputs": [],
   "source": [
    "def build_generator():\n",
    "    noise_dim = 100\n",
    "    latent_dim = 5\n",
    "    \n",
    "    inputs = layers.Input(shape=(noise_dim,), name='gen_input')\n",
    "    x = layers.Dense(units=10, name='dense_1')(inputs)\n",
    "    x = layers.LeakyReLU(negative_slope=0.2, name='leaky_relu_1')(x)\n",
    "    x = layers.BatchNormalization(momentum=0.8, name='batch_norm')(x)\n",
    "    x = layers.Dense(20, name='dense_2')(x)\n",
    "    x = layers.LeakyReLU(negative_slope=0.2, name='leaky_relu_2')(x)\n",
    "    x = layers.Dropout(rate=0.2, name='dropout')(x)\n",
    "    outputs = layers.Dense(units=latent_dim * 2 + 1, name='dense3')(x)\n",
    "    \n",
    "    return Model(inputs=inputs, outputs=outputs, name='generator')"
   ]
  },
  {
   "cell_type": "code",
   "execution_count": 107,
   "metadata": {},
   "outputs": [],
   "source": [
    "def build_discriminator():\n",
    "    latent_dim = 5\n",
    "    \n",
    "    inputs = layers.Input(shape=(latent_dim * 2 + 1,), name='disc_input')\n",
    "    x = layers.Dense(units=4, name='dense4')(inputs)\n",
    "    x = layers.LeakyReLU(negative_slope=0.2, name='leaky_relu1')(x)\n",
    "    x = layers.Dense(units=1, name='dense5')(x)\n",
    "    x = layers.Activation('sigmoid', name='sigmoid')(x)\n",
    "\n",
    "    return Model(inputs=inputs, outputs=x, name='discriminator')"
   ]
  },
  {
   "cell_type": "code",
   "execution_count": 108,
   "metadata": {},
   "outputs": [],
   "source": [
    "gan = GAN(generator=build_generator(), discriminator=build_discriminator())\n",
    "gan.compile(\n",
    "    gen_optimizer=optimizers.Adam(),\n",
    "    disc_optimizer=optimizers.Adam()\n",
    ")"
   ]
  },
  {
   "cell_type": "code",
   "execution_count": 109,
   "metadata": {},
   "outputs": [
    {
     "name": "stdout",
     "output_type": "stream",
     "text": [
      "Epoch 1/50\n",
      "\u001b[1m2500/2500\u001b[0m \u001b[32m━━━━━━━━━━━━━━━━━━━━\u001b[0m\u001b[37m\u001b[0m \u001b[1m7s\u001b[0m 1ms/step - disc_loss: 1.3917 - gen_loss: 0.7331 - loss: 0.0000e+00\n",
      "Epoch 2/50\n",
      "\u001b[1m2500/2500\u001b[0m \u001b[32m━━━━━━━━━━━━━━━━━━━━\u001b[0m\u001b[37m\u001b[0m \u001b[1m3s\u001b[0m 1ms/step - disc_loss: 1.3846 - gen_loss: 0.7400 - loss: 0.0000e+00\n",
      "Epoch 3/50\n",
      "\u001b[1m2500/2500\u001b[0m \u001b[32m━━━━━━━━━━━━━━━━━━━━\u001b[0m\u001b[37m\u001b[0m \u001b[1m3s\u001b[0m 1ms/step - disc_loss: 1.3707 - gen_loss: 0.7045 - loss: 0.0000e+00\n",
      "Epoch 4/50\n",
      "\u001b[1m2500/2500\u001b[0m \u001b[32m━━━━━━━━━━━━━━━━━━━━\u001b[0m\u001b[37m\u001b[0m \u001b[1m3s\u001b[0m 1ms/step - disc_loss: 1.3846 - gen_loss: 0.7415 - loss: 0.0000e+00\n",
      "Epoch 5/50\n",
      "\u001b[1m2500/2500\u001b[0m \u001b[32m━━━━━━━━━━━━━━━━━━━━\u001b[0m\u001b[37m\u001b[0m \u001b[1m3s\u001b[0m 1ms/step - disc_loss: 1.3697 - gen_loss: 0.7001 - loss: 0.0000e+00\n",
      "Epoch 6/50\n",
      "\u001b[1m2500/2500\u001b[0m \u001b[32m━━━━━━━━━━━━━━━━━━━━\u001b[0m\u001b[37m\u001b[0m \u001b[1m3s\u001b[0m 1ms/step - disc_loss: 1.3860 - gen_loss: 0.7097 - loss: 0.0000e+00\n",
      "Epoch 7/50\n",
      "\u001b[1m2500/2500\u001b[0m \u001b[32m━━━━━━━━━━━━━━━━━━━━\u001b[0m\u001b[37m\u001b[0m \u001b[1m3s\u001b[0m 997us/step - disc_loss: 1.3929 - gen_loss: 0.7159 - loss: 0.0000e+00\n",
      "Epoch 8/50\n",
      "\u001b[1m2500/2500\u001b[0m \u001b[32m━━━━━━━━━━━━━━━━━━━━\u001b[0m\u001b[37m\u001b[0m \u001b[1m2s\u001b[0m 918us/step - disc_loss: 1.3937 - gen_loss: 0.6993 - loss: 0.0000e+00\n",
      "Epoch 9/50\n",
      "\u001b[1m2500/2500\u001b[0m \u001b[32m━━━━━━━━━━━━━━━━━━━━\u001b[0m\u001b[37m\u001b[0m \u001b[1m2s\u001b[0m 968us/step - disc_loss: 1.3862 - gen_loss: 0.6963 - loss: 0.0000e+00\n",
      "Epoch 10/50\n",
      "\u001b[1m2500/2500\u001b[0m \u001b[32m━━━━━━━━━━━━━━━━━━━━\u001b[0m\u001b[37m\u001b[0m \u001b[1m3s\u001b[0m 1ms/step - disc_loss: 1.4040 - gen_loss: 0.6897 - loss: 0.0000e+00\n",
      "Epoch 11/50\n",
      "\u001b[1m2500/2500\u001b[0m \u001b[32m━━━━━━━━━━━━━━━━━━━━\u001b[0m\u001b[37m\u001b[0m \u001b[1m3s\u001b[0m 1ms/step - disc_loss: 1.3824 - gen_loss: 0.7044 - loss: 0.0000e+00\n",
      "Epoch 12/50\n",
      "\u001b[1m2500/2500\u001b[0m \u001b[32m━━━━━━━━━━━━━━━━━━━━\u001b[0m\u001b[37m\u001b[0m \u001b[1m2s\u001b[0m 989us/step - disc_loss: 1.3862 - gen_loss: 0.6945 - loss: 0.0000e+00\n",
      "Epoch 13/50\n",
      "\u001b[1m2500/2500\u001b[0m \u001b[32m━━━━━━━━━━━━━━━━━━━━\u001b[0m\u001b[37m\u001b[0m \u001b[1m2s\u001b[0m 994us/step - disc_loss: 1.3873 - gen_loss: 0.6986 - loss: 0.0000e+00\n",
      "Epoch 14/50\n",
      "\u001b[1m2500/2500\u001b[0m \u001b[32m━━━━━━━━━━━━━━━━━━━━\u001b[0m\u001b[37m\u001b[0m \u001b[1m2s\u001b[0m 940us/step - disc_loss: 1.3958 - gen_loss: 0.7000 - loss: 0.0000e+00\n",
      "Epoch 15/50\n",
      "\u001b[1m2500/2500\u001b[0m \u001b[32m━━━━━━━━━━━━━━━━━━━━\u001b[0m\u001b[37m\u001b[0m \u001b[1m2s\u001b[0m 935us/step - disc_loss: 1.3919 - gen_loss: 0.7033 - loss: 0.0000e+00\n",
      "Epoch 16/50\n",
      "\u001b[1m2500/2500\u001b[0m \u001b[32m━━━━━━━━━━━━━━━━━━━━\u001b[0m\u001b[37m\u001b[0m \u001b[1m3s\u001b[0m 1ms/step - disc_loss: 1.3888 - gen_loss: 0.6991 - loss: 0.0000e+00\n",
      "Epoch 17/50\n",
      "\u001b[1m2500/2500\u001b[0m \u001b[32m━━━━━━━━━━━━━━━━━━━━\u001b[0m\u001b[37m\u001b[0m \u001b[1m3s\u001b[0m 1ms/step - disc_loss: 1.3915 - gen_loss: 0.6943 - loss: 0.0000e+00\n",
      "Epoch 18/50\n",
      "\u001b[1m2500/2500\u001b[0m \u001b[32m━━━━━━━━━━━━━━━━━━━━\u001b[0m\u001b[37m\u001b[0m \u001b[1m2s\u001b[0m 913us/step - disc_loss: 1.4033 - gen_loss: 0.7052 - loss: 0.0000e+00\n",
      "Epoch 19/50\n",
      "\u001b[1m2500/2500\u001b[0m \u001b[32m━━━━━━━━━━━━━━━━━━━━\u001b[0m\u001b[37m\u001b[0m \u001b[1m2s\u001b[0m 974us/step - disc_loss: 1.3865 - gen_loss: 0.6939 - loss: 0.0000e+00\n",
      "Epoch 20/50\n",
      "\u001b[1m2500/2500\u001b[0m \u001b[32m━━━━━━━━━━━━━━━━━━━━\u001b[0m\u001b[37m\u001b[0m \u001b[1m2s\u001b[0m 951us/step - disc_loss: 1.3888 - gen_loss: 0.7009 - loss: 0.0000e+00\n",
      "Epoch 21/50\n",
      "\u001b[1m2500/2500\u001b[0m \u001b[32m━━━━━━━━━━━━━━━━━━━━\u001b[0m\u001b[37m\u001b[0m \u001b[1m2s\u001b[0m 941us/step - disc_loss: 1.4056 - gen_loss: 0.6928 - loss: 0.0000e+00\n",
      "Epoch 22/50\n",
      "\u001b[1m2500/2500\u001b[0m \u001b[32m━━━━━━━━━━━━━━━━━━━━\u001b[0m\u001b[37m\u001b[0m \u001b[1m2s\u001b[0m 938us/step - disc_loss: 1.3994 - gen_loss: 0.7167 - loss: 0.0000e+00\n",
      "Epoch 23/50\n",
      "\u001b[1m2500/2500\u001b[0m \u001b[32m━━━━━━━━━━━━━━━━━━━━\u001b[0m\u001b[37m\u001b[0m \u001b[1m2s\u001b[0m 965us/step - disc_loss: 1.3905 - gen_loss: 0.7017 - loss: 0.0000e+00\n",
      "Epoch 24/50\n",
      "\u001b[1m2500/2500\u001b[0m \u001b[32m━━━━━━━━━━━━━━━━━━━━\u001b[0m\u001b[37m\u001b[0m \u001b[1m2s\u001b[0m 963us/step - disc_loss: 1.3988 - gen_loss: 0.7012 - loss: 0.0000e+00\n",
      "Epoch 25/50\n",
      "\u001b[1m2500/2500\u001b[0m \u001b[32m━━━━━━━━━━━━━━━━━━━━\u001b[0m\u001b[37m\u001b[0m \u001b[1m2s\u001b[0m 925us/step - disc_loss: 1.4034 - gen_loss: 0.7042 - loss: 0.0000e+00\n",
      "Epoch 26/50\n",
      "\u001b[1m2500/2500\u001b[0m \u001b[32m━━━━━━━━━━━━━━━━━━━━\u001b[0m\u001b[37m\u001b[0m \u001b[1m2s\u001b[0m 968us/step - disc_loss: 1.3987 - gen_loss: 0.7040 - loss: 0.0000e+00\n",
      "Epoch 27/50\n",
      "\u001b[1m2500/2500\u001b[0m \u001b[32m━━━━━━━━━━━━━━━━━━━━\u001b[0m\u001b[37m\u001b[0m \u001b[1m4s\u001b[0m 2ms/step - disc_loss: 1.3960 - gen_loss: 0.7060 - loss: 0.0000e+00\n",
      "Epoch 28/50\n",
      "\u001b[1m2500/2500\u001b[0m \u001b[32m━━━━━━━━━━━━━━━━━━━━\u001b[0m\u001b[37m\u001b[0m \u001b[1m3s\u001b[0m 1ms/step - disc_loss: 1.3932 - gen_loss: 0.6966 - loss: 0.0000e+00\n",
      "Epoch 29/50\n",
      "\u001b[1m2500/2500\u001b[0m \u001b[32m━━━━━━━━━━━━━━━━━━━━\u001b[0m\u001b[37m\u001b[0m \u001b[1m3s\u001b[0m 1ms/step - disc_loss: 1.4032 - gen_loss: 0.7026 - loss: 0.0000e+00\n",
      "Epoch 30/50\n",
      "\u001b[1m2500/2500\u001b[0m \u001b[32m━━━━━━━━━━━━━━━━━━━━\u001b[0m\u001b[37m\u001b[0m \u001b[1m3s\u001b[0m 1ms/step - disc_loss: 1.3860 - gen_loss: 0.7012 - loss: 0.0000e+00\n",
      "Epoch 31/50\n",
      "\u001b[1m2500/2500\u001b[0m \u001b[32m━━━━━━━━━━━━━━━━━━━━\u001b[0m\u001b[37m\u001b[0m \u001b[1m3s\u001b[0m 1ms/step - disc_loss: 1.3983 - gen_loss: 0.7018 - loss: 0.0000e+00\n",
      "Epoch 32/50\n",
      "\u001b[1m2500/2500\u001b[0m \u001b[32m━━━━━━━━━━━━━━━━━━━━\u001b[0m\u001b[37m\u001b[0m \u001b[1m3s\u001b[0m 1ms/step - disc_loss: 1.3928 - gen_loss: 0.7029 - loss: 0.0000e+00\n",
      "Epoch 33/50\n",
      "\u001b[1m2500/2500\u001b[0m \u001b[32m━━━━━━━━━━━━━━━━━━━━\u001b[0m\u001b[37m\u001b[0m \u001b[1m3s\u001b[0m 1ms/step - disc_loss: 1.3977 - gen_loss: 0.6980 - loss: 0.0000e+00\n",
      "Epoch 34/50\n",
      "\u001b[1m2500/2500\u001b[0m \u001b[32m━━━━━━━━━━━━━━━━━━━━\u001b[0m\u001b[37m\u001b[0m \u001b[1m3s\u001b[0m 1ms/step - disc_loss: 1.3872 - gen_loss: 0.7011 - loss: 0.0000e+00\n",
      "Epoch 35/50\n",
      "\u001b[1m2500/2500\u001b[0m \u001b[32m━━━━━━━━━━━━━━━━━━━━\u001b[0m\u001b[37m\u001b[0m \u001b[1m3s\u001b[0m 1ms/step - disc_loss: 1.4032 - gen_loss: 0.7023 - loss: 0.0000e+00\n",
      "Epoch 36/50\n",
      "\u001b[1m2500/2500\u001b[0m \u001b[32m━━━━━━━━━━━━━━━━━━━━\u001b[0m\u001b[37m\u001b[0m \u001b[1m3s\u001b[0m 1ms/step - disc_loss: 1.3939 - gen_loss: 0.7035 - loss: 0.0000e+00\n",
      "Epoch 37/50\n",
      "\u001b[1m2500/2500\u001b[0m \u001b[32m━━━━━━━━━━━━━━━━━━━━\u001b[0m\u001b[37m\u001b[0m \u001b[1m3s\u001b[0m 1ms/step - disc_loss: 1.3892 - gen_loss: 0.7034 - loss: 0.0000e+00\n",
      "Epoch 38/50\n",
      "\u001b[1m2500/2500\u001b[0m \u001b[32m━━━━━━━━━━━━━━━━━━━━\u001b[0m\u001b[37m\u001b[0m \u001b[1m3s\u001b[0m 1ms/step - disc_loss: 1.4035 - gen_loss: 0.7084 - loss: 0.0000e+00\n",
      "Epoch 39/50\n",
      "\u001b[1m2500/2500\u001b[0m \u001b[32m━━━━━━━━━━━━━━━━━━━━\u001b[0m\u001b[37m\u001b[0m \u001b[1m3s\u001b[0m 1ms/step - disc_loss: 1.3872 - gen_loss: 0.6979 - loss: 0.0000e+00\n",
      "Epoch 40/50\n",
      "\u001b[1m2500/2500\u001b[0m \u001b[32m━━━━━━━━━━━━━━━━━━━━\u001b[0m\u001b[37m\u001b[0m \u001b[1m4s\u001b[0m 1ms/step - disc_loss: 1.3872 - gen_loss: 0.6936 - loss: 0.0000e+00\n",
      "Epoch 41/50\n",
      "\u001b[1m2500/2500\u001b[0m \u001b[32m━━━━━━━━━━━━━━━━━━━━\u001b[0m\u001b[37m\u001b[0m \u001b[1m3s\u001b[0m 1ms/step - disc_loss: 1.3886 - gen_loss: 0.6977 - loss: 0.0000e+00\n",
      "Epoch 42/50\n",
      "\u001b[1m2500/2500\u001b[0m \u001b[32m━━━━━━━━━━━━━━━━━━━━\u001b[0m\u001b[37m\u001b[0m \u001b[1m3s\u001b[0m 1ms/step - disc_loss: 1.3901 - gen_loss: 0.6915 - loss: 0.0000e+00\n",
      "Epoch 43/50\n",
      "\u001b[1m2500/2500\u001b[0m \u001b[32m━━━━━━━━━━━━━━━━━━━━\u001b[0m\u001b[37m\u001b[0m \u001b[1m3s\u001b[0m 1ms/step - disc_loss: 1.3929 - gen_loss: 0.6992 - loss: 0.0000e+00\n",
      "Epoch 44/50\n",
      "\u001b[1m2500/2500\u001b[0m \u001b[32m━━━━━━━━━━━━━━━━━━━━\u001b[0m\u001b[37m\u001b[0m \u001b[1m4s\u001b[0m 2ms/step - disc_loss: 1.3897 - gen_loss: 0.6969 - loss: 0.0000e+00\n",
      "Epoch 45/50\n",
      "\u001b[1m2500/2500\u001b[0m \u001b[32m━━━━━━━━━━━━━━━━━━━━\u001b[0m\u001b[37m\u001b[0m \u001b[1m3s\u001b[0m 1ms/step - disc_loss: 1.3865 - gen_loss: 0.6949 - loss: 0.0000e+00\n",
      "Epoch 46/50\n",
      "\u001b[1m2500/2500\u001b[0m \u001b[32m━━━━━━━━━━━━━━━━━━━━\u001b[0m\u001b[37m\u001b[0m \u001b[1m3s\u001b[0m 1ms/step - disc_loss: 1.3876 - gen_loss: 0.6945 - loss: 0.0000e+00\n",
      "Epoch 47/50\n",
      "\u001b[1m2500/2500\u001b[0m \u001b[32m━━━━━━━━━━━━━━━━━━━━\u001b[0m\u001b[37m\u001b[0m \u001b[1m3s\u001b[0m 1ms/step - disc_loss: 1.3888 - gen_loss: 0.6983 - loss: 0.0000e+00\n",
      "Epoch 48/50\n",
      "\u001b[1m2500/2500\u001b[0m \u001b[32m━━━━━━━━━━━━━━━━━━━━\u001b[0m\u001b[37m\u001b[0m \u001b[1m3s\u001b[0m 1ms/step - disc_loss: 1.3855 - gen_loss: 0.7006 - loss: 0.0000e+00\n",
      "Epoch 49/50\n",
      "\u001b[1m2500/2500\u001b[0m \u001b[32m━━━━━━━━━━━━━━━━━━━━\u001b[0m\u001b[37m\u001b[0m \u001b[1m5s\u001b[0m 2ms/step - disc_loss: 1.3880 - gen_loss: 0.6988 - loss: 0.0000e+00\n",
      "Epoch 50/50\n",
      "\u001b[1m2500/2500\u001b[0m \u001b[32m━━━━━━━━━━━━━━━━━━━━\u001b[0m\u001b[37m\u001b[0m \u001b[1m3s\u001b[0m 1ms/step - disc_loss: 1.4105 - gen_loss: 0.6908 - loss: 0.0000e+00\n"
     ]
    },
    {
     "data": {
      "text/plain": [
       "<keras.src.callbacks.history.History at 0x71184c0d4ed0>"
      ]
     },
     "execution_count": 109,
     "metadata": {},
     "output_type": "execute_result"
    }
   ],
   "source": [
    "gan.fit(\n",
    "    x=embedded_data,\n",
    "    epochs=50,\n",
    "    batch_size=32,\n",
    ")"
   ]
  },
  {
   "cell_type": "code",
   "execution_count": 110,
   "metadata": {},
   "outputs": [
    {
     "data": {
      "text/html": [
       "<pre style=\"white-space:pre;overflow-x:auto;line-height:normal;font-family:Menlo,'DejaVu Sans Mono',consolas,'Courier New',monospace\"><span style=\"font-weight: bold\">Model: \"functional_5\"</span>\n",
       "</pre>\n"
      ],
      "text/plain": [
       "\u001b[1mModel: \"functional_5\"\u001b[0m\n"
      ]
     },
     "metadata": {},
     "output_type": "display_data"
    },
    {
     "data": {
      "text/html": [
       "<pre style=\"white-space:pre;overflow-x:auto;line-height:normal;font-family:Menlo,'DejaVu Sans Mono',consolas,'Courier New',monospace\">┏━━━━━━━━━━━━━━━━━━━━━┳━━━━━━━━━━━━━━━━━━━┳━━━━━━━━━━━━┳━━━━━━━━━━━━━━━━━━━┓\n",
       "┃<span style=\"font-weight: bold\"> Layer (type)        </span>┃<span style=\"font-weight: bold\"> Output Shape      </span>┃<span style=\"font-weight: bold\">    Param # </span>┃<span style=\"font-weight: bold\"> Connected to      </span>┃\n",
       "┡━━━━━━━━━━━━━━━━━━━━━╇━━━━━━━━━━━━━━━━━━━╇━━━━━━━━━━━━╇━━━━━━━━━━━━━━━━━━━┩\n",
       "│ input_layer_5       │ (<span style=\"color: #00d7ff; text-decoration-color: #00d7ff\">None</span>, <span style=\"color: #00af00; text-decoration-color: #00af00\">100</span>)       │          <span style=\"color: #00af00; text-decoration-color: #00af00\">0</span> │ -                 │\n",
       "│ (<span style=\"color: #0087ff; text-decoration-color: #0087ff\">InputLayer</span>)        │                   │            │                   │\n",
       "├─────────────────────┼───────────────────┼────────────┼───────────────────┤\n",
       "│ generator           │ (<span style=\"color: #00d7ff; text-decoration-color: #00d7ff\">None</span>, <span style=\"color: #00af00; text-decoration-color: #00af00\">11</span>)        │      <span style=\"color: #00af00; text-decoration-color: #00af00\">1,501</span> │ input_layer_5[<span style=\"color: #00af00; text-decoration-color: #00af00\">0</span>]… │\n",
       "│ (<span style=\"color: #0087ff; text-decoration-color: #0087ff\">Functional</span>)        │                   │            │                   │\n",
       "├─────────────────────┼───────────────────┼────────────┼───────────────────┤\n",
       "│ input_layer_4       │ (<span style=\"color: #00d7ff; text-decoration-color: #00d7ff\">None</span>, <span style=\"color: #00af00; text-decoration-color: #00af00\">11</span>)        │          <span style=\"color: #00af00; text-decoration-color: #00af00\">0</span> │ -                 │\n",
       "│ (<span style=\"color: #0087ff; text-decoration-color: #0087ff\">InputLayer</span>)        │                   │            │                   │\n",
       "├─────────────────────┼───────────────────┼────────────┼───────────────────┤\n",
       "│ discriminator       │ (<span style=\"color: #00d7ff; text-decoration-color: #00d7ff\">None</span>, <span style=\"color: #00af00; text-decoration-color: #00af00\">1</span>)         │         <span style=\"color: #00af00; text-decoration-color: #00af00\">53</span> │ input_layer_4[<span style=\"color: #00af00; text-decoration-color: #00af00\">0</span>]… │\n",
       "│ (<span style=\"color: #0087ff; text-decoration-color: #0087ff\">Functional</span>)        │                   │            │ generator[<span style=\"color: #00af00; text-decoration-color: #00af00\">0</span>][<span style=\"color: #00af00; text-decoration-color: #00af00\">0</span>]   │\n",
       "└─────────────────────┴───────────────────┴────────────┴───────────────────┘\n",
       "</pre>\n"
      ],
      "text/plain": [
       "┏━━━━━━━━━━━━━━━━━━━━━┳━━━━━━━━━━━━━━━━━━━┳━━━━━━━━━━━━┳━━━━━━━━━━━━━━━━━━━┓\n",
       "┃\u001b[1m \u001b[0m\u001b[1mLayer (type)       \u001b[0m\u001b[1m \u001b[0m┃\u001b[1m \u001b[0m\u001b[1mOutput Shape     \u001b[0m\u001b[1m \u001b[0m┃\u001b[1m \u001b[0m\u001b[1m   Param #\u001b[0m\u001b[1m \u001b[0m┃\u001b[1m \u001b[0m\u001b[1mConnected to     \u001b[0m\u001b[1m \u001b[0m┃\n",
       "┡━━━━━━━━━━━━━━━━━━━━━╇━━━━━━━━━━━━━━━━━━━╇━━━━━━━━━━━━╇━━━━━━━━━━━━━━━━━━━┩\n",
       "│ input_layer_5       │ (\u001b[38;5;45mNone\u001b[0m, \u001b[38;5;34m100\u001b[0m)       │          \u001b[38;5;34m0\u001b[0m │ -                 │\n",
       "│ (\u001b[38;5;33mInputLayer\u001b[0m)        │                   │            │                   │\n",
       "├─────────────────────┼───────────────────┼────────────┼───────────────────┤\n",
       "│ generator           │ (\u001b[38;5;45mNone\u001b[0m, \u001b[38;5;34m11\u001b[0m)        │      \u001b[38;5;34m1,501\u001b[0m │ input_layer_5[\u001b[38;5;34m0\u001b[0m]… │\n",
       "│ (\u001b[38;5;33mFunctional\u001b[0m)        │                   │            │                   │\n",
       "├─────────────────────┼───────────────────┼────────────┼───────────────────┤\n",
       "│ input_layer_4       │ (\u001b[38;5;45mNone\u001b[0m, \u001b[38;5;34m11\u001b[0m)        │          \u001b[38;5;34m0\u001b[0m │ -                 │\n",
       "│ (\u001b[38;5;33mInputLayer\u001b[0m)        │                   │            │                   │\n",
       "├─────────────────────┼───────────────────┼────────────┼───────────────────┤\n",
       "│ discriminator       │ (\u001b[38;5;45mNone\u001b[0m, \u001b[38;5;34m1\u001b[0m)         │         \u001b[38;5;34m53\u001b[0m │ input_layer_4[\u001b[38;5;34m0\u001b[0m]… │\n",
       "│ (\u001b[38;5;33mFunctional\u001b[0m)        │                   │            │ generator[\u001b[38;5;34m0\u001b[0m][\u001b[38;5;34m0\u001b[0m]   │\n",
       "└─────────────────────┴───────────────────┴────────────┴───────────────────┘\n"
      ]
     },
     "metadata": {},
     "output_type": "display_data"
    },
    {
     "data": {
      "text/html": [
       "<pre style=\"white-space:pre;overflow-x:auto;line-height:normal;font-family:Menlo,'DejaVu Sans Mono',consolas,'Courier New',monospace\"><span style=\"font-weight: bold\"> Total params: </span><span style=\"color: #00af00; text-decoration-color: #00af00\">1,554</span> (6.07 KB)\n",
       "</pre>\n"
      ],
      "text/plain": [
       "\u001b[1m Total params: \u001b[0m\u001b[38;5;34m1,554\u001b[0m (6.07 KB)\n"
      ]
     },
     "metadata": {},
     "output_type": "display_data"
    },
    {
     "data": {
      "text/html": [
       "<pre style=\"white-space:pre;overflow-x:auto;line-height:normal;font-family:Menlo,'DejaVu Sans Mono',consolas,'Courier New',monospace\"><span style=\"font-weight: bold\"> Trainable params: </span><span style=\"color: #00af00; text-decoration-color: #00af00\">1,534</span> (5.99 KB)\n",
       "</pre>\n"
      ],
      "text/plain": [
       "\u001b[1m Trainable params: \u001b[0m\u001b[38;5;34m1,534\u001b[0m (5.99 KB)\n"
      ]
     },
     "metadata": {},
     "output_type": "display_data"
    },
    {
     "data": {
      "text/html": [
       "<pre style=\"white-space:pre;overflow-x:auto;line-height:normal;font-family:Menlo,'DejaVu Sans Mono',consolas,'Courier New',monospace\"><span style=\"font-weight: bold\"> Non-trainable params: </span><span style=\"color: #00af00; text-decoration-color: #00af00\">20</span> (80.00 B)\n",
       "</pre>\n"
      ],
      "text/plain": [
       "\u001b[1m Non-trainable params: \u001b[0m\u001b[38;5;34m20\u001b[0m (80.00 B)\n"
      ]
     },
     "metadata": {},
     "output_type": "display_data"
    }
   ],
   "source": [
    "gan.summary()"
   ]
  },
  {
   "cell_type": "code",
   "execution_count": 111,
   "metadata": {},
   "outputs": [],
   "source": [
    "STD_DEV = 1.5 # You can stablish the fake samples variability by setting this value\n",
    "noise = np.random.normal(0, STD_DEV, (50000, 100))"
   ]
  },
  {
   "cell_type": "code",
   "execution_count": 112,
   "metadata": {},
   "outputs": [],
   "source": [
    "augmented = gan.predict(noise).numpy()"
   ]
  },
  {
   "cell_type": "code",
   "execution_count": 113,
   "metadata": {},
   "outputs": [],
   "source": [
    "augmented[:, -1] = MinMaxNormalization(min_val=-1, max_val=6)(augmented[:, -1]).numpy()"
   ]
  },
  {
   "cell_type": "code",
   "execution_count": 114,
   "metadata": {},
   "outputs": [],
   "source": [
    "FAKE_SAMPLES = 50000\n",
    "latent_dim = 5"
   ]
  },
  {
   "cell_type": "code",
   "execution_count": 116,
   "metadata": {},
   "outputs": [
    {
     "name": "stdout",
     "output_type": "stream",
     "text": [
      "Initialization complete\n",
      "Iteration 0, inertia 4406.2958984375.\n",
      "Iteration 1, inertia 3934.887939453125.\n",
      "Iteration 2, inertia 3832.455322265625.\n",
      "Iteration 3, inertia 3782.6552734375.\n",
      "Iteration 4, inertia 3751.71728515625.\n",
      "Iteration 5, inertia 3729.848388671875.\n",
      "Iteration 6, inertia 3714.944580078125.\n",
      "Iteration 7, inertia 3705.282958984375.\n",
      "Iteration 8, inertia 3697.497802734375.\n",
      "Iteration 9, inertia 3691.25732421875.\n",
      "Iteration 10, inertia 3685.695068359375.\n",
      "Iteration 11, inertia 3680.91064453125.\n",
      "Iteration 12, inertia 3676.906005859375.\n",
      "Iteration 13, inertia 3673.40966796875.\n",
      "Iteration 14, inertia 3669.392822265625.\n",
      "Iteration 15, inertia 3665.326416015625.\n",
      "Iteration 16, inertia 3662.14208984375.\n",
      "Iteration 17, inertia 3659.882568359375.\n",
      "Iteration 18, inertia 3657.9482421875.\n",
      "Iteration 19, inertia 3656.2568359375.\n",
      "Iteration 20, inertia 3655.134521484375.\n",
      "Iteration 21, inertia 3654.072998046875.\n",
      "Iteration 22, inertia 3653.081787109375.\n",
      "Iteration 23, inertia 3651.915283203125.\n",
      "Iteration 24, inertia 3651.12109375.\n",
      "Iteration 25, inertia 3650.42626953125.\n",
      "Iteration 26, inertia 3649.6826171875.\n",
      "Iteration 27, inertia 3648.9443359375.\n",
      "Iteration 28, inertia 3648.4228515625.\n",
      "Iteration 29, inertia 3647.8603515625.\n",
      "Iteration 30, inertia 3647.209716796875.\n",
      "Iteration 31, inertia 3646.704833984375.\n",
      "Iteration 32, inertia 3646.335693359375.\n",
      "Iteration 33, inertia 3645.89453125.\n",
      "Iteration 34, inertia 3645.542236328125.\n",
      "Iteration 35, inertia 3645.24609375.\n",
      "Iteration 36, inertia 3644.96923828125.\n",
      "Iteration 37, inertia 3644.673828125.\n",
      "Iteration 38, inertia 3644.3779296875.\n",
      "Iteration 39, inertia 3644.171875.\n",
      "Converged at iteration 39: center shift 0.0009167972020804882 within tolerance 0.0010198384284973146.\n",
      "end cluster users: 500\n",
      "Initialization complete\n",
      "Iteration 0, inertia 3013.761962890625.\n",
      "Iteration 1, inertia 2680.71435546875.\n",
      "Iteration 2, inertia 2599.554443359375.\n",
      "Iteration 3, inertia 2556.96484375.\n",
      "Iteration 4, inertia 2530.260498046875.\n",
      "Iteration 5, inertia 2512.886474609375.\n",
      "Iteration 6, inertia 2500.73291015625.\n",
      "Iteration 7, inertia 2492.26416015625.\n",
      "Iteration 8, inertia 2486.271484375.\n",
      "Iteration 9, inertia 2481.732666015625.\n",
      "Iteration 10, inertia 2477.70166015625.\n",
      "Iteration 11, inertia 2474.40478515625.\n",
      "Iteration 12, inertia 2471.93212890625.\n",
      "Iteration 13, inertia 2469.8916015625.\n",
      "Iteration 14, inertia 2468.4765625.\n",
      "Iteration 15, inertia 2467.2373046875.\n",
      "Iteration 16, inertia 2466.134521484375.\n",
      "Iteration 17, inertia 2465.0830078125.\n",
      "Iteration 18, inertia 2464.353759765625.\n",
      "Iteration 19, inertia 2463.664306640625.\n",
      "Iteration 20, inertia 2463.020263671875.\n",
      "Iteration 21, inertia 2462.535888671875.\n",
      "Iteration 22, inertia 2462.111572265625.\n",
      "Iteration 23, inertia 2461.61328125.\n",
      "Iteration 24, inertia 2461.2412109375.\n",
      "Iteration 25, inertia 2460.859375.\n",
      "Iteration 26, inertia 2460.43798828125.\n",
      "Iteration 27, inertia 2460.188232421875.\n",
      "Iteration 28, inertia 2459.986572265625.\n",
      "Iteration 29, inertia 2459.765380859375.\n",
      "Iteration 30, inertia 2459.556640625.\n",
      "Iteration 31, inertia 2459.4248046875.\n",
      "Iteration 32, inertia 2459.340087890625.\n",
      "Converged at iteration 32: center shift 0.00024338479852303863 within tolerance 0.0010198384284973146.\n",
      "end cluster users: 1000\n",
      "Initialization complete\n",
      "Iteration 0, inertia 5434.9619140625.\n",
      "Iteration 1, inertia 4762.3359375.\n",
      "Iteration 2, inertia 4612.5419921875.\n",
      "Iteration 3, inertia 4542.68115234375.\n",
      "Iteration 4, inertia 4502.41650390625.\n",
      "Iteration 5, inertia 4476.17822265625.\n",
      "Iteration 6, inertia 4457.05517578125.\n",
      "Iteration 7, inertia 4443.1025390625.\n",
      "Iteration 8, inertia 4432.619140625.\n",
      "Iteration 9, inertia 4424.1611328125.\n",
      "Iteration 10, inertia 4417.44287109375.\n",
      "Iteration 11, inertia 4412.67919921875.\n",
      "Iteration 12, inertia 4408.50048828125.\n",
      "Iteration 13, inertia 4405.013671875.\n",
      "Iteration 14, inertia 4402.009765625.\n",
      "Iteration 15, inertia 4399.79345703125.\n",
      "Iteration 16, inertia 4397.98828125.\n",
      "Iteration 17, inertia 4396.7998046875.\n",
      "Iteration 18, inertia 4395.640625.\n",
      "Iteration 19, inertia 4394.798828125.\n",
      "Iteration 20, inertia 4394.0234375.\n",
      "Iteration 21, inertia 4393.6962890625.\n",
      "Iteration 22, inertia 4393.3330078125.\n",
      "Iteration 23, inertia 4393.07275390625.\n",
      "Iteration 24, inertia 4392.84765625.\n",
      "Iteration 25, inertia 4392.630859375.\n",
      "Iteration 26, inertia 4392.38232421875.\n",
      "Iteration 27, inertia 4392.07421875.\n",
      "Iteration 28, inertia 4391.7060546875.\n",
      "Converged at iteration 28: center shift 0.001436291029676795 within tolerance 0.0016971921920776367.\n",
      "end cluster items: 1000\n",
      "Initialization complete\n",
      "Iteration 0, inertia 3741.6650390625.\n",
      "Iteration 1, inertia 3239.630615234375.\n",
      "Iteration 2, inertia 3132.326416015625.\n",
      "Iteration 3, inertia 3087.826416015625.\n",
      "Iteration 4, inertia 3062.614501953125.\n",
      "Iteration 5, inertia 3046.32080078125.\n",
      "Iteration 6, inertia 3036.589111328125.\n",
      "Iteration 7, inertia 3030.595703125.\n",
      "Iteration 8, inertia 3026.82763671875.\n",
      "Iteration 9, inertia 3023.787109375.\n",
      "Iteration 10, inertia 3021.606689453125.\n",
      "Iteration 11, inertia 3019.997314453125.\n",
      "Iteration 12, inertia 3018.597412109375.\n",
      "Iteration 13, inertia 3017.63916015625.\n",
      "Iteration 14, inertia 3016.872802734375.\n",
      "Iteration 15, inertia 3016.322265625.\n",
      "Iteration 16, inertia 3015.936279296875.\n",
      "Iteration 17, inertia 3015.522216796875.\n",
      "Iteration 18, inertia 3015.0556640625.\n",
      "Iteration 19, inertia 3014.57421875.\n",
      "Iteration 20, inertia 3014.253173828125.\n",
      "Iteration 21, inertia 3014.02685546875.\n",
      "Converged at iteration 21: center shift 0.001351754879578948 within tolerance 0.0016971921920776367.\n",
      "end cluster items: 2000\n"
     ]
    }
   ],
   "source": [
    "from sklearn.cluster import KMeans\n",
    "\n",
    "testing_users = [500, 1000]\n",
    "testing_items = [1000, 2000]\n",
    "\n",
    "for K in testing_users:   \n",
    "    clustering_users = KMeans(n_clusters=K, n_init=1, max_iter= 100, verbose=1)\n",
    "    cluster_users = clustering_users.fit_predict(augmented[:FAKE_SAMPLES,:latent_dim])  \n",
    "    np.save('cluster_users' + str(FAKE_SAMPLES) + '_' + str(K), cluster_users)  \n",
    "    print(\"end cluster users: \" + str(K))\n",
    "\n",
    "for K in testing_items:   \n",
    "    clustering_items = KMeans(n_clusters=K, n_init=1, max_iter= 100, verbose=1)\n",
    "    cluster_items = clustering_items.fit_predict(augmented[:FAKE_SAMPLES,latent_dim:-1])  \n",
    "    np.save('cluster_items' + str(FAKE_SAMPLES) + '_' + str(K), cluster_items)   \n",
    "    print(\"end cluster items: \" + str(K))"
   ]
  },
  {
   "cell_type": "code",
   "execution_count": 117,
   "metadata": {},
   "outputs": [
    {
     "name": "stdout",
     "output_type": "stream",
     "text": [
      "synthetic dataset 500, 1000 has been created\n",
      "synthetic dataset 500, 2000 has been created\n",
      "synthetic dataset 1000, 1000 has been created\n",
      "synthetic dataset 1000, 2000 has been created\n"
     ]
    }
   ],
   "source": [
    "for Ku in testing_users:\n",
    "    cluster_users = np.load('cluster_users' + str(FAKE_SAMPLES) + '_' + str(Ku)+'.npy')\n",
    "    for Ki in testing_items:\n",
    "        cluster_items = np.load('cluster_items' + str(FAKE_SAMPLES) + '_' + str(Ki)+'.npy')\n",
    "        f = open ('synthetic_'+str(FAKE_SAMPLES)+'_'+str(Ku)+'_'+str(Ki)+'.txt','w')\n",
    "        f.write('user,item,rating\\n')\n",
    "        \n",
    "        for i in range(FAKE_SAMPLES):\n",
    "            us = str(cluster_users[i])\n",
    "            it = str(cluster_items[i])\n",
    "            ra = augmented[i,-1:][0]\n",
    "            if ra > 5.:\n",
    "                ra = 5\n",
    "            elif ra < 1:\n",
    "                ra = 1\n",
    "            else:\n",
    "                ra = np.round(ra)\n",
    "            f.write(us + \",\" + it + \",\" + str(ra) + \"\\n\")\n",
    "        f.close()\n",
    "        print(\"synthetic dataset \" + str(Ku) + ', ' + str(Ki) + \" has been created\")\n",
    "      "
   ]
  },
  {
   "cell_type": "code",
   "execution_count": 118,
   "metadata": {},
   "outputs": [],
   "source": [
    "df = pd.read_csv('synthetic_50000_500_1000.txt')"
   ]
  },
  {
   "cell_type": "code",
   "execution_count": 119,
   "metadata": {},
   "outputs": [
    {
     "data": {
      "image/png": "[encoded data removed]",
      "text/plain": [
       "<Figure size 1000x500 with 1 Axes>"
      ]
     },
     "metadata": {},
     "output_type": "display_data"
    }
   ],
   "source": [
    "plot_ratings_distribution(df)"
   ]
  },
  {
   "cell_type": "code",
   "execution_count": null,
   "metadata": {},
   "outputs": [],
   "source": []
  }
 ],
 "metadata": {
  "kernelspec": {
   "display_name": "Python 3",
   "language": "python",
   "name": "python3"
  },
  "language_info": {
   "codemirror_mode": {
    "name": "ipython",
    "version": 3
   },
   "file_extension": ".py",
   "mimetype": "text/x-python",
   "name": "python",
   "nbconvert_exporter": "python",
   "pygments_lexer": "ipython3",
   "version": "3.11.7"
  }
 },
 "nbformat": 4,
 "nbformat_minor": 2
}
