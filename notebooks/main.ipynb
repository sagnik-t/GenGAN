{
 "cells": [
  {
   "cell_type": "code",
   "execution_count": 1,
   "metadata": {},
   "outputs": [
    {
     "name": "stderr",
     "output_type": "stream",
     "text": [
      "2024-06-05 12:11:18.073802: I tensorflow/core/util/port.cc:113] oneDNN custom operations are on. You may see slightly different numerical results due to floating-point round-off errors from different computation orders. To turn them off, set the environment variable `TF_ENABLE_ONEDNN_OPTS=0`.\n",
      "2024-06-05 12:11:18.125290: I tensorflow/core/platform/cpu_feature_guard.cc:210] This TensorFlow binary is optimized to use available CPU instructions in performance-critical operations.\n",
      "To enable the following instructions: AVX2 AVX512F AVX512_VNNI FMA, in other operations, rebuild TensorFlow with the appropriate compiler flags.\n",
      "2024-06-05 12:11:19.146072: W tensorflow/compiler/tf2tensorrt/utils/py_utils.cc:38] TF-TRT Warning: Could not find TensorRT\n"
     ]
    }
   ],
   "source": [
    "import numpy as np\n",
    "import pandas as pd\n",
    "import tensorflow as tf\n",
    "import keras\n",
    "from keras import Sequential, Model, Layer, layers, optimizers, losses, metrics, regularizers, callbacks\n",
    "from matplotlib import pyplot as plt\n",
    "import mplcyberpunk as mplnk"
   ]
  },
  {
   "cell_type": "code",
   "execution_count": 2,
   "metadata": {},
   "outputs": [],
   "source": [
    "import warnings\n",
    "warnings.filterwarnings('ignore')\n",
    "warnings.filterwarnings('always')"
   ]
  },
  {
   "cell_type": "code",
   "execution_count": 3,
   "metadata": {},
   "outputs": [],
   "source": [
    "from config import Config\n",
    "from utils import DataLoader"
   ]
  },
  {
   "cell_type": "code",
   "execution_count": 4,
   "metadata": {},
   "outputs": [],
   "source": [
    "train_df = DataLoader().load_train_data()"
   ]
  },
  {
   "cell_type": "code",
   "execution_count": 5,
   "metadata": {},
   "outputs": [
    {
     "data": {
      "text/html": [
       "<div>\n",
       "<style scoped>\n",
       "    .dataframe tbody tr th:only-of-type {\n",
       "        vertical-align: middle;\n",
       "    }\n",
       "\n",
       "    .dataframe tbody tr th {\n",
       "        vertical-align: top;\n",
       "    }\n",
       "\n",
       "    .dataframe thead th {\n",
       "        text-align: right;\n",
       "    }\n",
       "</style>\n",
       "<table border=\"1\" class=\"dataframe\">\n",
       "  <thead>\n",
       "    <tr style=\"text-align: right;\">\n",
       "      <th></th>\n",
       "      <th>user_id</th>\n",
       "      <th>item_id</th>\n",
       "      <th>rating</th>\n",
       "    </tr>\n",
       "  </thead>\n",
       "  <tbody>\n",
       "    <tr>\n",
       "      <th>0</th>\n",
       "      <td>716</td>\n",
       "      <td>836</td>\n",
       "      <td>4</td>\n",
       "    </tr>\n",
       "    <tr>\n",
       "      <th>1</th>\n",
       "      <td>620</td>\n",
       "      <td>422</td>\n",
       "      <td>1</td>\n",
       "    </tr>\n",
       "    <tr>\n",
       "      <th>2</th>\n",
       "      <td>547</td>\n",
       "      <td>289</td>\n",
       "      <td>3</td>\n",
       "    </tr>\n",
       "    <tr>\n",
       "      <th>3</th>\n",
       "      <td>758</td>\n",
       "      <td>385</td>\n",
       "      <td>4</td>\n",
       "    </tr>\n",
       "    <tr>\n",
       "      <th>4</th>\n",
       "      <td>627</td>\n",
       "      <td>197</td>\n",
       "      <td>5</td>\n",
       "    </tr>\n",
       "    <tr>\n",
       "      <th>...</th>\n",
       "      <td>...</td>\n",
       "      <td>...</td>\n",
       "      <td>...</td>\n",
       "    </tr>\n",
       "    <tr>\n",
       "      <th>79995</th>\n",
       "      <td>336</td>\n",
       "      <td>628</td>\n",
       "      <td>3</td>\n",
       "    </tr>\n",
       "    <tr>\n",
       "      <th>79996</th>\n",
       "      <td>749</td>\n",
       "      <td>637</td>\n",
       "      <td>1</td>\n",
       "    </tr>\n",
       "    <tr>\n",
       "      <th>79997</th>\n",
       "      <td>758</td>\n",
       "      <td>313</td>\n",
       "      <td>4</td>\n",
       "    </tr>\n",
       "    <tr>\n",
       "      <th>79998</th>\n",
       "      <td>380</td>\n",
       "      <td>139</td>\n",
       "      <td>1</td>\n",
       "    </tr>\n",
       "    <tr>\n",
       "      <th>79999</th>\n",
       "      <td>231</td>\n",
       "      <td>151</td>\n",
       "      <td>1</td>\n",
       "    </tr>\n",
       "  </tbody>\n",
       "</table>\n",
       "<p>80000 rows × 3 columns</p>\n",
       "</div>"
      ],
      "text/plain": [
       "       user_id  item_id  rating\n",
       "0          716      836       4\n",
       "1          620      422       1\n",
       "2          547      289       3\n",
       "3          758      385       4\n",
       "4          627      197       5\n",
       "...        ...      ...     ...\n",
       "79995      336      628       3\n",
       "79996      749      637       1\n",
       "79997      758      313       4\n",
       "79998      380      139       1\n",
       "79999      231      151       1\n",
       "\n",
       "[80000 rows x 3 columns]"
      ]
     },
     "execution_count": 5,
     "metadata": {},
     "output_type": "execute_result"
    }
   ],
   "source": [
    "train_df"
   ]
  },
  {
   "cell_type": "code",
   "execution_count": 6,
   "metadata": {},
   "outputs": [],
   "source": [
    "plt.style.use('cyberpunk')"
   ]
  },
  {
   "cell_type": "code",
   "execution_count": 7,
   "metadata": {},
   "outputs": [],
   "source": [
    "def plot_ratings_distribution(df):\n",
    "    plt.figure(figsize=(10, 5))\n",
    "\n",
    "    value_counts = df['rating'].value_counts()\n",
    "    bars = plt.bar(x=value_counts.index, height=value_counts.values)\n",
    "    percantages = value_counts / value_counts.sum() * 100\n",
    "\n",
    "    font_dict = {\n",
    "        'fontweight': 'normal',\n",
    "        'fontfamily': 'sans-serif',\n",
    "        'fontsize': 10,\n",
    "        'color': 'white'\n",
    "    }\n",
    "\n",
    "    for bar, percantage in zip(bars, percantages):\n",
    "        height = bar.get_height()\n",
    "        plt.text(bar.get_x() + bar.get_width() / 2, height, f'{percantage:.2f}%', ha='center', va='bottom', fontdict=font_dict)\n",
    "\n",
    "    mplnk.add_bar_gradient(bars)\n",
    "\n",
    "    plt.xlabel('Rating', fontweight='bold')\n",
    "    plt.show()"
   ]
  },
  {
   "cell_type": "code",
   "execution_count": 8,
   "metadata": {},
   "outputs": [
    {
     "data": {
      "image/png": "[encoded data removed]",
      "text/plain": [
       "<Figure size 1000x500 with 1 Axes>"
      ]
     },
     "metadata": {},
     "output_type": "display_data"
    }
   ],
   "source": [
    "plot_ratings_distribution(train_df)"
   ]
  },
  {
   "cell_type": "code",
   "execution_count": 9,
   "metadata": {},
   "outputs": [],
   "source": [
    "val_df = DataLoader().load_val_data()"
   ]
  },
  {
   "cell_type": "code",
   "execution_count": 10,
   "metadata": {},
   "outputs": [
    {
     "data": {
      "text/html": [
       "<div>\n",
       "<style scoped>\n",
       "    .dataframe tbody tr th:only-of-type {\n",
       "        vertical-align: middle;\n",
       "    }\n",
       "\n",
       "    .dataframe tbody tr th {\n",
       "        vertical-align: top;\n",
       "    }\n",
       "\n",
       "    .dataframe thead th {\n",
       "        text-align: right;\n",
       "    }\n",
       "</style>\n",
       "<table border=\"1\" class=\"dataframe\">\n",
       "  <thead>\n",
       "    <tr style=\"text-align: right;\">\n",
       "      <th></th>\n",
       "      <th>user_id</th>\n",
       "      <th>item_id</th>\n",
       "      <th>rating</th>\n",
       "    </tr>\n",
       "  </thead>\n",
       "  <tbody>\n",
       "    <tr>\n",
       "      <th>0</th>\n",
       "      <td>655</td>\n",
       "      <td>911</td>\n",
       "      <td>2</td>\n",
       "    </tr>\n",
       "    <tr>\n",
       "      <th>1</th>\n",
       "      <td>200</td>\n",
       "      <td>88</td>\n",
       "      <td>4</td>\n",
       "    </tr>\n",
       "    <tr>\n",
       "      <th>2</th>\n",
       "      <td>763</td>\n",
       "      <td>607</td>\n",
       "      <td>4</td>\n",
       "    </tr>\n",
       "    <tr>\n",
       "      <th>3</th>\n",
       "      <td>500</td>\n",
       "      <td>714</td>\n",
       "      <td>2</td>\n",
       "    </tr>\n",
       "    <tr>\n",
       "      <th>4</th>\n",
       "      <td>690</td>\n",
       "      <td>163</td>\n",
       "      <td>3</td>\n",
       "    </tr>\n",
       "    <tr>\n",
       "      <th>...</th>\n",
       "      <td>...</td>\n",
       "      <td>...</td>\n",
       "      <td>...</td>\n",
       "    </tr>\n",
       "    <tr>\n",
       "      <th>19995</th>\n",
       "      <td>932</td>\n",
       "      <td>38</td>\n",
       "      <td>2</td>\n",
       "    </tr>\n",
       "    <tr>\n",
       "      <th>19996</th>\n",
       "      <td>154</td>\n",
       "      <td>874</td>\n",
       "      <td>3</td>\n",
       "    </tr>\n",
       "    <tr>\n",
       "      <th>19997</th>\n",
       "      <td>527</td>\n",
       "      <td>425</td>\n",
       "      <td>4</td>\n",
       "    </tr>\n",
       "    <tr>\n",
       "      <th>19998</th>\n",
       "      <td>464</td>\n",
       "      <td>333</td>\n",
       "      <td>4</td>\n",
       "    </tr>\n",
       "    <tr>\n",
       "      <th>19999</th>\n",
       "      <td>805</td>\n",
       "      <td>117</td>\n",
       "      <td>3</td>\n",
       "    </tr>\n",
       "  </tbody>\n",
       "</table>\n",
       "<p>20000 rows × 3 columns</p>\n",
       "</div>"
      ],
      "text/plain": [
       "       user_id  item_id  rating\n",
       "0          655      911       2\n",
       "1          200       88       4\n",
       "2          763      607       4\n",
       "3          500      714       2\n",
       "4          690      163       3\n",
       "...        ...      ...     ...\n",
       "19995      932       38       2\n",
       "19996      154      874       3\n",
       "19997      527      425       4\n",
       "19998      464      333       4\n",
       "19999      805      117       3\n",
       "\n",
       "[20000 rows x 3 columns]"
      ]
     },
     "execution_count": 10,
     "metadata": {},
     "output_type": "execute_result"
    }
   ],
   "source": [
    "val_df"
   ]
  },
  {
   "cell_type": "code",
   "execution_count": 11,
   "metadata": {},
   "outputs": [],
   "source": [
    "x_train, x_test, y_train, y_test = train_df.values, val_df.values, train_df['rating'].values, val_df['rating'].values"
   ]
  },
  {
   "cell_type": "code",
   "execution_count": 12,
   "metadata": {},
   "outputs": [
    {
     "data": {
      "text/plain": [
       "(80000, 3)"
      ]
     },
     "execution_count": 12,
     "metadata": {},
     "output_type": "execute_result"
    }
   ],
   "source": [
    "x_train.shape"
   ]
  },
  {
   "cell_type": "code",
   "execution_count": 13,
   "metadata": {},
   "outputs": [],
   "source": [
    "class MinMaxNormalization(Layer):\n",
    "    \n",
    "    def __init__(self, min_val, max_val, **kwargs):\n",
    "        super().__init__(**kwargs)\n",
    "        self.min_val = min_val\n",
    "        self.max_val = max_val\n",
    "        scalar = lambda x: ((x - tf.reduce_min(x)) / (tf.reduce_max(x) - tf.reduce_min(x))) * (max_val - min_val) + min_val\n",
    "        self.lambda_layer = layers.Lambda(scalar)\n",
    "        \n",
    "    def call(self, inputs):\n",
    "        return self.lambda_layer(inputs)"
   ]
  },
  {
   "cell_type": "code",
   "execution_count": 14,
   "metadata": {},
   "outputs": [],
   "source": [
    "class Split(Layer):\n",
    "    \n",
    "    def __init__(self, splits, **kwargs):\n",
    "        super(Split, self).__init__(**kwargs)\n",
    "        self.splits = splits\n",
    "        self.reshape = layers.Reshape(target_shape=(1,))\n",
    "    \n",
    "    def call(self, inputs) -> list[tf.Tensor]:\n",
    "        if isinstance(inputs, (list, tuple)):\n",
    "            inputs = tf.stack(inputs, axis=1)\n",
    "        \n",
    "        splits = tf.split(inputs, self.splits, axis=1)\n",
    "        \n",
    "        return [self.reshape(split) for split in splits]"
   ]
  },
  {
   "cell_type": "code",
   "execution_count": 15,
   "metadata": {},
   "outputs": [],
   "source": [
    "class DeepMF(Model):\n",
    "    \n",
    "    def __init__(\n",
    "        self,\n",
    "        latent_dim:int = 5, \n",
    "        num_users:int = Config.Vars.NUM_USERS,\n",
    "        num_items:int = Config.Vars.NUM_ITEMS,\n",
    "        **kwargs\n",
    "    ):\n",
    "        super().__init__(**kwargs)\n",
    "        self.latent_dim = latent_dim\n",
    "        self.num_users = num_users\n",
    "        self.num_items = num_items\n",
    "        self.split = Split(splits=3, name='split')\n",
    "        self.rating = layers.Identity(name='rating')\n",
    "        self.user_embedding = layers.Embedding(self.num_users + 1, self.latent_dim, name='user_embedding')\n",
    "        self.user_flatten = layers.Flatten(name='user_flatten')\n",
    "        self.item_embedding = layers.Embedding(self.num_items + 1, self.latent_dim, name='item_embedding')\n",
    "        self.item_flatten = layers.Flatten(name='item_flatten')\n",
    "        self.dot = layers.Dot(axes=1, name='dot')\n",
    "        self.concatenate1 = layers.Concatenate(axis=1, name='concatenate1')\n",
    "        self.reshape = layers.Reshape(target_shape=(-1,), name='reshape')\n",
    "        self.concatenate2 = layers.Concatenate(axis=1, name='concatenate2')\n",
    "    \n",
    "    def call(self, inputs):\n",
    "        user_id, item_id, ratings = self.split(inputs)\n",
    "        user_emb = self.user_embedding(user_id)\n",
    "        user_emb = self.user_flatten(user_emb)\n",
    "        item_emb = self.item_embedding(item_id)\n",
    "        item_emb = self.item_flatten(item_emb)\n",
    "        rating_vec = self.dot([user_emb, item_emb])\n",
    "        embeddings = self.concatenate1([user_emb, item_emb])\n",
    "        norm_ratings = self.rating(ratings)\n",
    "        # norm_ratings = self.norm(ratings)\n",
    "        norm_ratings = self.reshape(norm_ratings)\n",
    "        embedded_data = self.concatenate2([embeddings, norm_ratings])\n",
    "        return rating_vec, embedded_data\n",
    "    \n",
    "    def predict(self, x):\n",
    "        _, embedded_data = self.call(x)\n",
    "        return embedded_data\n",
    "    \n",
    "    def train_step(self, data):\n",
    "        inputs, output = data\n",
    "        \n",
    "        with tf.GradientTape() as tape:\n",
    "            rating_vec, _ = self.call(inputs)\n",
    "            loss = self.compute_loss(y=output, y_pred=rating_vec)\n",
    "            \n",
    "        grads = tape.gradient(loss, self.trainable_weights)\n",
    "        self.optimizer.apply_gradients(zip(grads, self.trainable_weights))\n",
    "        \n",
    "        return {\n",
    "            'mse_loss': loss,\n",
    "            **self.compute_metrics(x=inputs[0], y=output, y_pred=rating_vec)\n",
    "        }\n",
    "    \n",
    "    def summary(self):\n",
    "        model = self.build_graph()\n",
    "        return model.summary()\n",
    "    \n",
    "    def build_graph(self):\n",
    "        x = (layers.Input(shape=(3,)))\n",
    "        return Model(inputs=x, outputs=self.call(x))"
   ]
  },
  {
   "cell_type": "code",
   "execution_count": 16,
   "metadata": {},
   "outputs": [
    {
     "name": "stderr",
     "output_type": "stream",
     "text": [
      "2024-06-05 12:11:33.583127: I external/local_xla/xla/stream_executor/cuda/cuda_executor.cc:998] successful NUMA node read from SysFS had negative value (-1), but there must be at least one NUMA node, so returning NUMA node zero. See more at https://github.com/torvalds/linux/blob/v6.0/Documentation/ABI/testing/sysfs-bus-pci#L344-L355\n",
      "2024-06-05 12:11:33.754638: I external/local_xla/xla/stream_executor/cuda/cuda_executor.cc:998] successful NUMA node read from SysFS had negative value (-1), but there must be at least one NUMA node, so returning NUMA node zero. See more at https://github.com/torvalds/linux/blob/v6.0/Documentation/ABI/testing/sysfs-bus-pci#L344-L355\n",
      "2024-06-05 12:11:33.754806: I external/local_xla/xla/stream_executor/cuda/cuda_executor.cc:998] successful NUMA node read from SysFS had negative value (-1), but there must be at least one NUMA node, so returning NUMA node zero. See more at https://github.com/torvalds/linux/blob/v6.0/Documentation/ABI/testing/sysfs-bus-pci#L344-L355\n",
      "2024-06-05 12:11:33.755921: I external/local_xla/xla/stream_executor/cuda/cuda_executor.cc:998] successful NUMA node read from SysFS had negative value (-1), but there must be at least one NUMA node, so returning NUMA node zero. See more at https://github.com/torvalds/linux/blob/v6.0/Documentation/ABI/testing/sysfs-bus-pci#L344-L355\n",
      "2024-06-05 12:11:33.756046: I external/local_xla/xla/stream_executor/cuda/cuda_executor.cc:998] successful NUMA node read from SysFS had negative value (-1), but there must be at least one NUMA node, so returning NUMA node zero. See more at https://github.com/torvalds/linux/blob/v6.0/Documentation/ABI/testing/sysfs-bus-pci#L344-L355\n",
      "2024-06-05 12:11:33.756126: I external/local_xla/xla/stream_executor/cuda/cuda_executor.cc:998] successful NUMA node read from SysFS had negative value (-1), but there must be at least one NUMA node, so returning NUMA node zero. See more at https://github.com/torvalds/linux/blob/v6.0/Documentation/ABI/testing/sysfs-bus-pci#L344-L355\n",
      "2024-06-05 12:11:33.809676: I external/local_xla/xla/stream_executor/cuda/cuda_executor.cc:998] successful NUMA node read from SysFS had negative value (-1), but there must be at least one NUMA node, so returning NUMA node zero. See more at https://github.com/torvalds/linux/blob/v6.0/Documentation/ABI/testing/sysfs-bus-pci#L344-L355\n",
      "2024-06-05 12:11:33.809815: I external/local_xla/xla/stream_executor/cuda/cuda_executor.cc:998] successful NUMA node read from SysFS had negative value (-1), but there must be at least one NUMA node, so returning NUMA node zero. See more at https://github.com/torvalds/linux/blob/v6.0/Documentation/ABI/testing/sysfs-bus-pci#L344-L355\n",
      "2024-06-05 12:11:33.809903: I external/local_xla/xla/stream_executor/cuda/cuda_executor.cc:998] successful NUMA node read from SysFS had negative value (-1), but there must be at least one NUMA node, so returning NUMA node zero. See more at https://github.com/torvalds/linux/blob/v6.0/Documentation/ABI/testing/sysfs-bus-pci#L344-L355\n",
      "2024-06-05 12:11:33.810921: I tensorflow/core/common_runtime/gpu/gpu_device.cc:1928] Created device /job:localhost/replica:0/task:0/device:GPU:0 with 2291 MB memory:  -> device: 0, name: NVIDIA GeForce RTX 3050 Laptop GPU, pci bus id: 0000:01:00.0, compute capability: 8.6\n"
     ]
    }
   ],
   "source": [
    "deepmf = DeepMF()\n",
    "deepmf.compile(\n",
    "    optimizer=optimizers.Adam(),\n",
    "    loss=losses.MeanSquaredError(),\n",
    "    metrics=[metrics.R2Score()]\n",
    ")"
   ]
  },
  {
   "cell_type": "code",
   "execution_count": 17,
   "metadata": {},
   "outputs": [
    {
     "name": "stdout",
     "output_type": "stream",
     "text": [
      "Epoch 1/10\n"
     ]
    },
    {
     "name": "stderr",
     "output_type": "stream",
     "text": [
      "WARNING: All log messages before absl::InitializeLog() is called are written to STDERR\n",
      "I0000 00:00:1717569699.783635   15613 service.cc:145] XLA service 0x74d4e00014c0 initialized for platform CUDA (this does not guarantee that XLA will be used). Devices:\n",
      "I0000 00:00:1717569699.783677   15613 service.cc:153]   StreamExecutor device (0): NVIDIA GeForce RTX 3050 Laptop GPU, Compute Capability 8.6\n",
      "2024-06-05 12:11:39.840542: I tensorflow/compiler/mlir/tensorflow/utils/dump_mlir_util.cc:268] disabling MLIR crash reproducer, set env var `MLIR_CRASH_REPRODUCER_DIRECTORY` to enable.\n",
      "2024-06-05 12:11:39.988963: I external/local_xla/xla/stream_executor/cuda/cuda_dnn.cc:465] Loaded cuDNN version 8907\n"
     ]
    },
    {
     "name": "stdout",
     "output_type": "stream",
     "text": [
      "\u001b[1m  83/2500\u001b[0m \u001b[37m━━━━━━━━━━━━━━━━━━━━\u001b[0m \u001b[1m4s\u001b[0m 2ms/step - loss: 0.0000e+00 - mse_loss: 13.6767 - r2_score: -9.8791"
     ]
    },
    {
     "name": "stderr",
     "output_type": "stream",
     "text": [
      "I0000 00:00:1717569700.385885   15613 device_compiler.h:188] Compiled cluster using XLA!  This line is logged at most once for the lifetime of the process.\n"
     ]
    },
    {
     "name": "stdout",
     "output_type": "stream",
     "text": [
      "\u001b[1m2500/2500\u001b[0m \u001b[32m━━━━━━━━━━━━━━━━━━━━\u001b[0m\u001b[37m\u001b[0m \u001b[1m5s\u001b[0m 1ms/step - loss: 0.0000e+00 - mse_loss: 11.4419 - r2_score: -9.3994\n",
      "Epoch 2/10\n",
      "\u001b[1m2500/2500\u001b[0m \u001b[32m━━━━━━━━━━━━━━━━━━━━\u001b[0m\u001b[37m\u001b[0m \u001b[1m2s\u001b[0m 878us/step - loss: 0.0000e+00 - mse_loss: 3.1887 - r2_score: -2.3421\n",
      "Epoch 3/10\n",
      "\u001b[1m2500/2500\u001b[0m \u001b[32m━━━━━━━━━━━━━━━━━━━━\u001b[0m\u001b[37m\u001b[0m \u001b[1m3s\u001b[0m 1ms/step - loss: 0.0000e+00 - mse_loss: 1.4725 - r2_score: -0.2838 - val_loss: 1.2603 - val_r2_score: 0.0033\n",
      "Epoch 4/10\n",
      "\u001b[1m2500/2500\u001b[0m \u001b[32m━━━━━━━━━━━━━━━━━━━━\u001b[0m\u001b[37m\u001b[0m \u001b[1m3s\u001b[0m 1ms/step - loss: 0.0000e+00 - mse_loss: 1.1038 - r2_score: 0.0918\n",
      "Epoch 5/10\n",
      "\u001b[1m2500/2500\u001b[0m \u001b[32m━━━━━━━━━━━━━━━━━━━━\u001b[0m\u001b[37m\u001b[0m \u001b[1m2s\u001b[0m 822us/step - loss: 0.0000e+00 - mse_loss: 0.9800 - r2_score: 0.2197\n",
      "Epoch 6/10\n",
      "\u001b[1m2500/2500\u001b[0m \u001b[32m━━━━━━━━━━━━━━━━━━━━\u001b[0m\u001b[37m\u001b[0m \u001b[1m3s\u001b[0m 999us/step - loss: 0.0000e+00 - mse_loss: 0.9306 - r2_score: 0.2741 - val_loss: 0.9456 - val_r2_score: 0.2522\n",
      "Epoch 7/10\n",
      "\u001b[1m2500/2500\u001b[0m \u001b[32m━━━━━━━━━━━━━━━━━━━━\u001b[0m\u001b[37m\u001b[0m \u001b[1m3s\u001b[0m 1ms/step - loss: 0.0000e+00 - mse_loss: 0.9067 - r2_score: 0.2985\n",
      "Epoch 8/10\n",
      "\u001b[1m2500/2500\u001b[0m \u001b[32m━━━━━━━━━━━━━━━━━━━━\u001b[0m\u001b[37m\u001b[0m \u001b[1m3s\u001b[0m 1ms/step - loss: 0.0000e+00 - mse_loss: 0.8937 - r2_score: 0.2983\n",
      "Epoch 9/10\n",
      "\u001b[1m2500/2500\u001b[0m \u001b[32m━━━━━━━━━━━━━━━━━━━━\u001b[0m\u001b[37m\u001b[0m \u001b[1m3s\u001b[0m 1ms/step - loss: 0.0000e+00 - mse_loss: 0.8858 - r2_score: 0.3066 - val_loss: 0.9132 - val_r2_score: 0.2778\n",
      "Epoch 10/10\n",
      "\u001b[1m2500/2500\u001b[0m \u001b[32m━━━━━━━━━━━━━━━━━━━━\u001b[0m\u001b[37m\u001b[0m \u001b[1m2s\u001b[0m 926us/step - loss: 0.0000e+00 - mse_loss: 0.8794 - r2_score: 0.3153\n"
     ]
    },
    {
     "data": {
      "text/plain": [
       "<keras.src.callbacks.history.History at 0x74d65f413550>"
      ]
     },
     "execution_count": 17,
     "metadata": {},
     "output_type": "execute_result"
    }
   ],
   "source": [
    "deepmf.fit(\n",
    "    [x_train[:, 0], x_train[:, 1], x_train[:, 2]],\n",
    "    y_train,\n",
    "    validation_data=([x_test[:, 0], x_test[:, 1], x_test[:, 2]], y_test),\n",
    "    epochs=10,\n",
    "    batch_size=32,\n",
    "    validation_freq=3\n",
    ")"
   ]
  },
  {
   "cell_type": "code",
   "execution_count": 18,
   "metadata": {},
   "outputs": [
    {
     "data": {
      "text/plain": [
       "TensorShape([80000, 11])"
      ]
     },
     "execution_count": 18,
     "metadata": {},
     "output_type": "execute_result"
    }
   ],
   "source": [
    "embedded_data = deepmf.predict([x_train[:, 0], x_train[:, 1], x_train[:, 2]])\n",
    "embedded_data.shape"
   ]
  },
  {
   "cell_type": "code",
   "execution_count": 19,
   "metadata": {},
   "outputs": [],
   "source": [
    "@keras.utils.register_keras_serializable(package='Custom', name='GAN')\n",
    "class GAN(Model):\n",
    "    \n",
    "    def __init__(\n",
    "        self,\n",
    "        generator: Model,\n",
    "        discriminator: Model,\n",
    "        noise_dim: int = 100,\n",
    "        **kwargs\n",
    "    ):\n",
    "        super(GAN, self).__init__(**kwargs)\n",
    "        self.noise_dim = noise_dim\n",
    "        self.generator = generator\n",
    "        self.discriminator = discriminator\n",
    "    \n",
    "    def call(self, inputs, training=False):\n",
    "        noise_vec, input_tensor = inputs\n",
    "        \n",
    "        real_output = self.discriminator(input_tensor, training=True)\n",
    "        gen_tensor = self.generator(noise_vec, training=True)\n",
    "        gen_output = self.discriminator(gen_tensor, training=True)\n",
    "        \n",
    "        return gen_tensor, real_output, gen_output\n",
    "    \n",
    "    def compile(\n",
    "        self,\n",
    "        gen_optimizer: keras.Optimizer,\n",
    "        disc_optimizer: keras.Optimizer,\n",
    "        **kwargs\n",
    "    ):\n",
    "        super(GAN, self).compile(**kwargs)\n",
    "        self.gen_optimizer = gen_optimizer\n",
    "        self.disc_optimizer = disc_optimizer\n",
    "    \n",
    "    def compute_loss(self, x=None, y=None, y_pred=None, sample_weight=None):\n",
    "        _, real_output, gen_output = y_pred\n",
    "        \n",
    "        gen_loss = losses.binary_crossentropy(tf.ones_like(gen_output), gen_output)\n",
    "        disc_loss = losses.binary_crossentropy(tf.ones_like(real_output), real_output) + losses.binary_crossentropy(tf.zeros_like(gen_output), gen_output)\n",
    "        \n",
    "        return {\n",
    "            'gen_loss': gen_loss,\n",
    "            'disc_loss': disc_loss\n",
    "        }\n",
    "    \n",
    "    def train_step(self, inputs: tf.Tensor):\n",
    "        \n",
    "        noise_vec = tf.random.normal((tf.shape(inputs)[0], self.noise_dim))\n",
    "        \n",
    "        with tf.GradientTape() as gen_tape, tf.GradientTape() as disc_tape:\n",
    "            _, real_output, gen_output = self.call(inputs=(noise_vec, inputs), training=True)\n",
    "            loss = self.compute_loss(y_pred=[inputs, real_output, gen_output])\n",
    "        \n",
    "        gen_grads = gen_tape.gradient(loss['gen_loss'], self.generator.trainable_weights)\n",
    "        disc_grads = disc_tape.gradient(loss['disc_loss'], self.discriminator.trainable_weights)\n",
    "        \n",
    "        self.gen_optimizer.apply_gradients(zip(gen_grads, self.generator.trainable_weights))\n",
    "        self.disc_optimizer.apply_gradients(zip(disc_grads, self.discriminator.trainable_weights))\n",
    "        \n",
    "        return {\n",
    "            'gen_loss': loss['gen_loss'],\n",
    "            'disc_loss': loss['disc_loss'],\n",
    "            **self.compute_metrics(x=noise_vec, y=inputs, y_pred=[inputs, real_output, gen_output])\n",
    "        }\n",
    "    \n",
    "    def predict(self, x):\n",
    "        return self.generator(x)\n",
    "    \n",
    "    def summary(self, **kwargs):\n",
    "        model = self.build_graph()\n",
    "        return model.summary(**kwargs)\n",
    "    \n",
    "    def build_graph(self):\n",
    "        if isinstance(self.discriminator, keras.src.models.Functional):\n",
    "            input_shape = self.discriminator.layers[1].input.shape[1:]\n",
    "        else:\n",
    "            input_shape = self.discriminator.layers[0].input.shape[0:]\n",
    "        \n",
    "        input_tensor = layers.Input(shape=input_shape)\n",
    "        noise_vec = layers.Input(shape=(self.noise_dim,))\n",
    "        return Model(inputs=[noise_vec, input_tensor], outputs=self.call((noise_vec, input_tensor)))\n",
    "    \n",
    "    def get_config(self):\n",
    "        config = super(Model, self).get_config()\n",
    "        config.update({\n",
    "            'generator': self.generator.get_config(),\n",
    "            'discriminator': self.discriminator.get_config(),\n",
    "            'noise_dim': self.noise_dim\n",
    "        })\n",
    "        return config\n",
    "    \n",
    "    @classmethod\n",
    "    def from_config(cls, config: dict):\n",
    "        generator = Model.from_config(config.pop('generator'))\n",
    "        discriminator = Model.from_config(config.pop('discriminator'))\n",
    "        return cls(generator=generator, discriminator=discriminator, **config)"
   ]
  },
  {
   "cell_type": "code",
   "execution_count": 20,
   "metadata": {},
   "outputs": [],
   "source": [
    "def build_generator():\n",
    "    noise_dim = 100\n",
    "    latent_dim = 5\n",
    "    \n",
    "    inputs = layers.Input(shape=(noise_dim,), name='gen_input')\n",
    "    x = layers.Dense(units=10, name='dense_1')(inputs)\n",
    "    x = layers.LeakyReLU(negative_slope=0.2, name='leaky_relu_1')(x)\n",
    "    x = layers.BatchNormalization(momentum=0.8, name='batch_norm')(x)\n",
    "    x = layers.Dense(20, name='dense_2')(x)\n",
    "    x = layers.LeakyReLU(negative_slope=0.2, name='leaky_relu_2')(x)\n",
    "    x = layers.Dropout(rate=0.2, name='dropout')(x)\n",
    "    outputs = layers.Dense(units=latent_dim * 2 + 1, name='dense3')(x)\n",
    "    \n",
    "    return Model(inputs=inputs, outputs=outputs, name='generator')"
   ]
  },
  {
   "cell_type": "code",
   "execution_count": 21,
   "metadata": {},
   "outputs": [],
   "source": [
    "def build_discriminator():\n",
    "    latent_dim = 5\n",
    "    \n",
    "    inputs = layers.Input(shape=(latent_dim * 2 + 1,), name='disc_input')\n",
    "    x = layers.Dense(units=4, name='dense4')(inputs)\n",
    "    x = layers.LeakyReLU(negative_slope=0.2, name='leaky_relu1')(x)\n",
    "    x = layers.Dense(units=1, name='dense5')(x)\n",
    "    x = layers.Activation('sigmoid', name='sigmoid')(x)\n",
    "\n",
    "    return Model(inputs=inputs, outputs=x, name='discriminator')"
   ]
  },
  {
   "cell_type": "code",
   "execution_count": 22,
   "metadata": {},
   "outputs": [],
   "source": [
    "gan = GAN(generator=build_generator(), discriminator=build_discriminator())\n",
    "gan.compile(\n",
    "    gen_optimizer=optimizers.Adam(),\n",
    "    disc_optimizer=optimizers.Adam()\n",
    ")"
   ]
  },
  {
   "cell_type": "code",
   "execution_count": 23,
   "metadata": {},
   "outputs": [
    {
     "name": "stdout",
     "output_type": "stream",
     "text": [
      "Epoch 1/10\n",
      "\u001b[1m2500/2500\u001b[0m \u001b[32m━━━━━━━━━━━━━━━━━━━━\u001b[0m\u001b[37m\u001b[0m \u001b[1m8s\u001b[0m 2ms/step - disc_loss: 1.3741 - gen_loss: 0.7348 - loss: 0.0000e+00\n",
      "Epoch 2/10\n",
      "\u001b[1m2500/2500\u001b[0m \u001b[32m━━━━━━━━━━━━━━━━━━━━\u001b[0m\u001b[37m\u001b[0m \u001b[1m5s\u001b[0m 2ms/step - disc_loss: 1.3719 - gen_loss: 0.7457 - loss: 0.0000e+00\n",
      "Epoch 3/10\n",
      "\u001b[1m2500/2500\u001b[0m \u001b[32m━━━━━━━━━━━━━━━━━━━━\u001b[0m\u001b[37m\u001b[0m \u001b[1m6s\u001b[0m 3ms/step - disc_loss: 1.3803 - gen_loss: 0.7112 - loss: 0.0000e+00\n",
      "Epoch 4/10\n",
      "\u001b[1m2500/2500\u001b[0m \u001b[32m━━━━━━━━━━━━━━━━━━━━\u001b[0m\u001b[37m\u001b[0m \u001b[1m5s\u001b[0m 2ms/step - disc_loss: 1.3784 - gen_loss: 0.7096 - loss: 0.0000e+00\n",
      "Epoch 5/10\n",
      "\u001b[1m2500/2500\u001b[0m \u001b[32m━━━━━━━━━━━━━━━━━━━━\u001b[0m\u001b[37m\u001b[0m \u001b[1m4s\u001b[0m 2ms/step - disc_loss: 1.3735 - gen_loss: 0.7250 - loss: 0.0000e+00\n",
      "Epoch 6/10\n",
      "\u001b[1m2500/2500\u001b[0m \u001b[32m━━━━━━━━━━━━━━━━━━━━\u001b[0m\u001b[37m\u001b[0m \u001b[1m4s\u001b[0m 2ms/step - disc_loss: 1.3951 - gen_loss: 0.6946 - loss: 0.0000e+00\n",
      "Epoch 7/10\n",
      "\u001b[1m2500/2500\u001b[0m \u001b[32m━━━━━━━━━━━━━━━━━━━━\u001b[0m\u001b[37m\u001b[0m \u001b[1m3s\u001b[0m 1ms/step - disc_loss: 1.3820 - gen_loss: 0.7116 - loss: 0.0000e+00\n",
      "Epoch 8/10\n",
      "\u001b[1m2500/2500\u001b[0m \u001b[32m━━━━━━━━━━━━━━━━━━━━\u001b[0m\u001b[37m\u001b[0m \u001b[1m3s\u001b[0m 1ms/step - disc_loss: 1.3886 - gen_loss: 0.7290 - loss: 0.0000e+00\n",
      "Epoch 9/10\n",
      "\u001b[1m2500/2500\u001b[0m \u001b[32m━━━━━━━━━━━━━━━━━━━━\u001b[0m\u001b[37m\u001b[0m \u001b[1m3s\u001b[0m 1ms/step - disc_loss: 1.3712 - gen_loss: 0.7160 - loss: 0.0000e+00\n",
      "Epoch 10/10\n",
      "\u001b[1m2500/2500\u001b[0m \u001b[32m━━━━━━━━━━━━━━━━━━━━\u001b[0m\u001b[37m\u001b[0m \u001b[1m3s\u001b[0m 1ms/step - disc_loss: 1.3862 - gen_loss: 0.6980 - loss: 0.0000e+00\n"
     ]
    },
    {
     "data": {
      "text/plain": [
       "<keras.src.callbacks.history.History at 0x74d6e26b8a90>"
      ]
     },
     "execution_count": 23,
     "metadata": {},
     "output_type": "execute_result"
    }
   ],
   "source": [
    "gan.fit(\n",
    "    x=embedded_data,\n",
    "    epochs=10,\n",
    "    batch_size=32,\n",
    ")"
   ]
  },
  {
   "cell_type": "code",
   "execution_count": 24,
   "metadata": {},
   "outputs": [
    {
     "data": {
      "text/html": [
       "<pre style=\"white-space:pre;overflow-x:auto;line-height:normal;font-family:Menlo,'DejaVu Sans Mono',consolas,'Courier New',monospace\"><span style=\"font-weight: bold\">Model: \"functional_1\"</span>\n",
       "</pre>\n"
      ],
      "text/plain": [
       "\u001b[1mModel: \"functional_1\"\u001b[0m\n"
      ]
     },
     "metadata": {},
     "output_type": "display_data"
    },
    {
     "data": {
      "text/html": [
       "<pre style=\"white-space:pre;overflow-x:auto;line-height:normal;font-family:Menlo,'DejaVu Sans Mono',consolas,'Courier New',monospace\">┏━━━━━━━━━━━━━━━━━━━━━┳━━━━━━━━━━━━━━━━━━━┳━━━━━━━━━━━━┳━━━━━━━━━━━━━━━━━━━┓\n",
       "┃<span style=\"font-weight: bold\"> Layer (type)        </span>┃<span style=\"font-weight: bold\"> Output Shape      </span>┃<span style=\"font-weight: bold\">    Param # </span>┃<span style=\"font-weight: bold\"> Connected to      </span>┃\n",
       "┡━━━━━━━━━━━━━━━━━━━━━╇━━━━━━━━━━━━━━━━━━━╇━━━━━━━━━━━━╇━━━━━━━━━━━━━━━━━━━┩\n",
       "│ input_layer_1       │ (<span style=\"color: #00d7ff; text-decoration-color: #00d7ff\">None</span>, <span style=\"color: #00af00; text-decoration-color: #00af00\">100</span>)       │          <span style=\"color: #00af00; text-decoration-color: #00af00\">0</span> │ -                 │\n",
       "│ (<span style=\"color: #0087ff; text-decoration-color: #0087ff\">InputLayer</span>)        │                   │            │                   │\n",
       "├─────────────────────┼───────────────────┼────────────┼───────────────────┤\n",
       "│ generator           │ (<span style=\"color: #00d7ff; text-decoration-color: #00d7ff\">None</span>, <span style=\"color: #00af00; text-decoration-color: #00af00\">11</span>)        │      <span style=\"color: #00af00; text-decoration-color: #00af00\">1,501</span> │ input_layer_1[<span style=\"color: #00af00; text-decoration-color: #00af00\">0</span>]… │\n",
       "│ (<span style=\"color: #0087ff; text-decoration-color: #0087ff\">Functional</span>)        │                   │            │                   │\n",
       "├─────────────────────┼───────────────────┼────────────┼───────────────────┤\n",
       "│    └ gen_input      │ (<span style=\"color: #00d7ff; text-decoration-color: #00d7ff\">None</span>, <span style=\"color: #00af00; text-decoration-color: #00af00\">100</span>)       │          <span style=\"color: #00af00; text-decoration-color: #00af00\">0</span> │ -                 │\n",
       "│ (<span style=\"color: #0087ff; text-decoration-color: #0087ff\">InputLayer</span>)        │                   │            │                   │\n",
       "├─────────────────────┼───────────────────┼────────────┼───────────────────┤\n",
       "│    └ dense_1        │ (<span style=\"color: #00d7ff; text-decoration-color: #00d7ff\">None</span>, <span style=\"color: #00af00; text-decoration-color: #00af00\">10</span>)        │      <span style=\"color: #00af00; text-decoration-color: #00af00\">1,010</span> │ -                 │\n",
       "│ (<span style=\"color: #0087ff; text-decoration-color: #0087ff\">Dense</span>)             │                   │            │                   │\n",
       "├─────────────────────┼───────────────────┼────────────┼───────────────────┤\n",
       "│    └ leaky_relu_1   │ (<span style=\"color: #00d7ff; text-decoration-color: #00d7ff\">None</span>, <span style=\"color: #00af00; text-decoration-color: #00af00\">10</span>)        │          <span style=\"color: #00af00; text-decoration-color: #00af00\">0</span> │ -                 │\n",
       "│ (<span style=\"color: #0087ff; text-decoration-color: #0087ff\">LeakyReLU</span>)         │                   │            │                   │\n",
       "├─────────────────────┼───────────────────┼────────────┼───────────────────┤\n",
       "│    └ batch_norm     │ (<span style=\"color: #00d7ff; text-decoration-color: #00d7ff\">None</span>, <span style=\"color: #00af00; text-decoration-color: #00af00\">10</span>)        │         <span style=\"color: #00af00; text-decoration-color: #00af00\">40</span> │ -                 │\n",
       "│ (<span style=\"color: #0087ff; text-decoration-color: #0087ff\">BatchNormalizatio…</span> │                   │            │                   │\n",
       "├─────────────────────┼───────────────────┼────────────┼───────────────────┤\n",
       "│    └ dense_2        │ (<span style=\"color: #00d7ff; text-decoration-color: #00d7ff\">None</span>, <span style=\"color: #00af00; text-decoration-color: #00af00\">20</span>)        │        <span style=\"color: #00af00; text-decoration-color: #00af00\">220</span> │ -                 │\n",
       "│ (<span style=\"color: #0087ff; text-decoration-color: #0087ff\">Dense</span>)             │                   │            │                   │\n",
       "├─────────────────────┼───────────────────┼────────────┼───────────────────┤\n",
       "│    └ leaky_relu_2   │ (<span style=\"color: #00d7ff; text-decoration-color: #00d7ff\">None</span>, <span style=\"color: #00af00; text-decoration-color: #00af00\">20</span>)        │          <span style=\"color: #00af00; text-decoration-color: #00af00\">0</span> │ -                 │\n",
       "│ (<span style=\"color: #0087ff; text-decoration-color: #0087ff\">LeakyReLU</span>)         │                   │            │                   │\n",
       "├─────────────────────┼───────────────────┼────────────┼───────────────────┤\n",
       "│    └ dropout        │ (<span style=\"color: #00d7ff; text-decoration-color: #00d7ff\">None</span>, <span style=\"color: #00af00; text-decoration-color: #00af00\">20</span>)        │          <span style=\"color: #00af00; text-decoration-color: #00af00\">0</span> │ -                 │\n",
       "│ (<span style=\"color: #0087ff; text-decoration-color: #0087ff\">Dropout</span>)           │                   │            │                   │\n",
       "├─────────────────────┼───────────────────┼────────────┼───────────────────┤\n",
       "│    └ dense3 (<span style=\"color: #0087ff; text-decoration-color: #0087ff\">Dense</span>) │ (<span style=\"color: #00d7ff; text-decoration-color: #00d7ff\">None</span>, <span style=\"color: #00af00; text-decoration-color: #00af00\">11</span>)        │        <span style=\"color: #00af00; text-decoration-color: #00af00\">231</span> │ -                 │\n",
       "├─────────────────────┼───────────────────┼────────────┼───────────────────┤\n",
       "│ input_layer         │ (<span style=\"color: #00d7ff; text-decoration-color: #00d7ff\">None</span>, <span style=\"color: #00af00; text-decoration-color: #00af00\">11</span>)        │          <span style=\"color: #00af00; text-decoration-color: #00af00\">0</span> │ -                 │\n",
       "│ (<span style=\"color: #0087ff; text-decoration-color: #0087ff\">InputLayer</span>)        │                   │            │                   │\n",
       "├─────────────────────┼───────────────────┼────────────┼───────────────────┤\n",
       "│ discriminator       │ (<span style=\"color: #00d7ff; text-decoration-color: #00d7ff\">None</span>, <span style=\"color: #00af00; text-decoration-color: #00af00\">1</span>)         │         <span style=\"color: #00af00; text-decoration-color: #00af00\">53</span> │ input_layer[<span style=\"color: #00af00; text-decoration-color: #00af00\">0</span>][<span style=\"color: #00af00; text-decoration-color: #00af00\">0</span>… │\n",
       "│ (<span style=\"color: #0087ff; text-decoration-color: #0087ff\">Functional</span>)        │                   │            │ generator[<span style=\"color: #00af00; text-decoration-color: #00af00\">0</span>][<span style=\"color: #00af00; text-decoration-color: #00af00\">0</span>]   │\n",
       "├─────────────────────┼───────────────────┼────────────┼───────────────────┤\n",
       "│    └ disc_input     │ (<span style=\"color: #00d7ff; text-decoration-color: #00d7ff\">None</span>, <span style=\"color: #00af00; text-decoration-color: #00af00\">11</span>)        │          <span style=\"color: #00af00; text-decoration-color: #00af00\">0</span> │ -                 │\n",
       "│ (<span style=\"color: #0087ff; text-decoration-color: #0087ff\">InputLayer</span>)        │                   │            │                   │\n",
       "├─────────────────────┼───────────────────┼────────────┼───────────────────┤\n",
       "│    └ dense4 (<span style=\"color: #0087ff; text-decoration-color: #0087ff\">Dense</span>) │ (<span style=\"color: #00d7ff; text-decoration-color: #00d7ff\">None</span>, <span style=\"color: #00af00; text-decoration-color: #00af00\">4</span>)         │         <span style=\"color: #00af00; text-decoration-color: #00af00\">48</span> │ -                 │\n",
       "├─────────────────────┼───────────────────┼────────────┼───────────────────┤\n",
       "│    └ leaky_relu1    │ (<span style=\"color: #00d7ff; text-decoration-color: #00d7ff\">None</span>, <span style=\"color: #00af00; text-decoration-color: #00af00\">4</span>)         │          <span style=\"color: #00af00; text-decoration-color: #00af00\">0</span> │ -                 │\n",
       "│ (<span style=\"color: #0087ff; text-decoration-color: #0087ff\">LeakyReLU</span>)         │                   │            │                   │\n",
       "├─────────────────────┼───────────────────┼────────────┼───────────────────┤\n",
       "│    └ dense5 (<span style=\"color: #0087ff; text-decoration-color: #0087ff\">Dense</span>) │ (<span style=\"color: #00d7ff; text-decoration-color: #00d7ff\">None</span>, <span style=\"color: #00af00; text-decoration-color: #00af00\">1</span>)         │          <span style=\"color: #00af00; text-decoration-color: #00af00\">5</span> │ -                 │\n",
       "├─────────────────────┼───────────────────┼────────────┼───────────────────┤\n",
       "│    └ sigmoid        │ (<span style=\"color: #00d7ff; text-decoration-color: #00d7ff\">None</span>, <span style=\"color: #00af00; text-decoration-color: #00af00\">1</span>)         │          <span style=\"color: #00af00; text-decoration-color: #00af00\">0</span> │ -                 │\n",
       "│ (<span style=\"color: #0087ff; text-decoration-color: #0087ff\">Activation</span>)        │                   │            │                   │\n",
       "└─────────────────────┴───────────────────┴────────────┴───────────────────┘\n",
       "</pre>\n"
      ],
      "text/plain": [
       "┏━━━━━━━━━━━━━━━━━━━━━┳━━━━━━━━━━━━━━━━━━━┳━━━━━━━━━━━━┳━━━━━━━━━━━━━━━━━━━┓\n",
       "┃\u001b[1m \u001b[0m\u001b[1mLayer (type)       \u001b[0m\u001b[1m \u001b[0m┃\u001b[1m \u001b[0m\u001b[1mOutput Shape     \u001b[0m\u001b[1m \u001b[0m┃\u001b[1m \u001b[0m\u001b[1m   Param #\u001b[0m\u001b[1m \u001b[0m┃\u001b[1m \u001b[0m\u001b[1mConnected to     \u001b[0m\u001b[1m \u001b[0m┃\n",
       "┡━━━━━━━━━━━━━━━━━━━━━╇━━━━━━━━━━━━━━━━━━━╇━━━━━━━━━━━━╇━━━━━━━━━━━━━━━━━━━┩\n",
       "│ input_layer_1       │ (\u001b[38;5;45mNone\u001b[0m, \u001b[38;5;34m100\u001b[0m)       │          \u001b[38;5;34m0\u001b[0m │ -                 │\n",
       "│ (\u001b[38;5;33mInputLayer\u001b[0m)        │                   │            │                   │\n",
       "├─────────────────────┼───────────────────┼────────────┼───────────────────┤\n",
       "│ generator           │ (\u001b[38;5;45mNone\u001b[0m, \u001b[38;5;34m11\u001b[0m)        │      \u001b[38;5;34m1,501\u001b[0m │ input_layer_1[\u001b[38;5;34m0\u001b[0m]… │\n",
       "│ (\u001b[38;5;33mFunctional\u001b[0m)        │                   │            │                   │\n",
       "├─────────────────────┼───────────────────┼────────────┼───────────────────┤\n",
       "│    └ gen_input      │ (\u001b[38;5;45mNone\u001b[0m, \u001b[38;5;34m100\u001b[0m)       │          \u001b[38;5;34m0\u001b[0m │ -                 │\n",
       "│ (\u001b[38;5;33mInputLayer\u001b[0m)        │                   │            │                   │\n",
       "├─────────────────────┼───────────────────┼────────────┼───────────────────┤\n",
       "│    └ dense_1        │ (\u001b[38;5;45mNone\u001b[0m, \u001b[38;5;34m10\u001b[0m)        │      \u001b[38;5;34m1,010\u001b[0m │ -                 │\n",
       "│ (\u001b[38;5;33mDense\u001b[0m)             │                   │            │                   │\n",
       "├─────────────────────┼───────────────────┼────────────┼───────────────────┤\n",
       "│    └ leaky_relu_1   │ (\u001b[38;5;45mNone\u001b[0m, \u001b[38;5;34m10\u001b[0m)        │          \u001b[38;5;34m0\u001b[0m │ -                 │\n",
       "│ (\u001b[38;5;33mLeakyReLU\u001b[0m)         │                   │            │                   │\n",
       "├─────────────────────┼───────────────────┼────────────┼───────────────────┤\n",
       "│    └ batch_norm     │ (\u001b[38;5;45mNone\u001b[0m, \u001b[38;5;34m10\u001b[0m)        │         \u001b[38;5;34m40\u001b[0m │ -                 │\n",
       "│ (\u001b[38;5;33mBatchNormalizatio…\u001b[0m │                   │            │                   │\n",
       "├─────────────────────┼───────────────────┼────────────┼───────────────────┤\n",
       "│    └ dense_2        │ (\u001b[38;5;45mNone\u001b[0m, \u001b[38;5;34m20\u001b[0m)        │        \u001b[38;5;34m220\u001b[0m │ -                 │\n",
       "│ (\u001b[38;5;33mDense\u001b[0m)             │                   │            │                   │\n",
       "├─────────────────────┼───────────────────┼────────────┼───────────────────┤\n",
       "│    └ leaky_relu_2   │ (\u001b[38;5;45mNone\u001b[0m, \u001b[38;5;34m20\u001b[0m)        │          \u001b[38;5;34m0\u001b[0m │ -                 │\n",
       "│ (\u001b[38;5;33mLeakyReLU\u001b[0m)         │                   │            │                   │\n",
       "├─────────────────────┼───────────────────┼────────────┼───────────────────┤\n",
       "│    └ dropout        │ (\u001b[38;5;45mNone\u001b[0m, \u001b[38;5;34m20\u001b[0m)        │          \u001b[38;5;34m0\u001b[0m │ -                 │\n",
       "│ (\u001b[38;5;33mDropout\u001b[0m)           │                   │            │                   │\n",
       "├─────────────────────┼───────────────────┼────────────┼───────────────────┤\n",
       "│    └ dense3 (\u001b[38;5;33mDense\u001b[0m) │ (\u001b[38;5;45mNone\u001b[0m, \u001b[38;5;34m11\u001b[0m)        │        \u001b[38;5;34m231\u001b[0m │ -                 │\n",
       "├─────────────────────┼───────────────────┼────────────┼───────────────────┤\n",
       "│ input_layer         │ (\u001b[38;5;45mNone\u001b[0m, \u001b[38;5;34m11\u001b[0m)        │          \u001b[38;5;34m0\u001b[0m │ -                 │\n",
       "│ (\u001b[38;5;33mInputLayer\u001b[0m)        │                   │            │                   │\n",
       "├─────────────────────┼───────────────────┼────────────┼───────────────────┤\n",
       "│ discriminator       │ (\u001b[38;5;45mNone\u001b[0m, \u001b[38;5;34m1\u001b[0m)         │         \u001b[38;5;34m53\u001b[0m │ input_layer[\u001b[38;5;34m0\u001b[0m][\u001b[38;5;34m0\u001b[0m… │\n",
       "│ (\u001b[38;5;33mFunctional\u001b[0m)        │                   │            │ generator[\u001b[38;5;34m0\u001b[0m][\u001b[38;5;34m0\u001b[0m]   │\n",
       "├─────────────────────┼───────────────────┼────────────┼───────────────────┤\n",
       "│    └ disc_input     │ (\u001b[38;5;45mNone\u001b[0m, \u001b[38;5;34m11\u001b[0m)        │          \u001b[38;5;34m0\u001b[0m │ -                 │\n",
       "│ (\u001b[38;5;33mInputLayer\u001b[0m)        │                   │            │                   │\n",
       "├─────────────────────┼───────────────────┼────────────┼───────────────────┤\n",
       "│    └ dense4 (\u001b[38;5;33mDense\u001b[0m) │ (\u001b[38;5;45mNone\u001b[0m, \u001b[38;5;34m4\u001b[0m)         │         \u001b[38;5;34m48\u001b[0m │ -                 │\n",
       "├─────────────────────┼───────────────────┼────────────┼───────────────────┤\n",
       "│    └ leaky_relu1    │ (\u001b[38;5;45mNone\u001b[0m, \u001b[38;5;34m4\u001b[0m)         │          \u001b[38;5;34m0\u001b[0m │ -                 │\n",
       "│ (\u001b[38;5;33mLeakyReLU\u001b[0m)         │                   │            │                   │\n",
       "├─────────────────────┼───────────────────┼────────────┼───────────────────┤\n",
       "│    └ dense5 (\u001b[38;5;33mDense\u001b[0m) │ (\u001b[38;5;45mNone\u001b[0m, \u001b[38;5;34m1\u001b[0m)         │          \u001b[38;5;34m5\u001b[0m │ -                 │\n",
       "├─────────────────────┼───────────────────┼────────────┼───────────────────┤\n",
       "│    └ sigmoid        │ (\u001b[38;5;45mNone\u001b[0m, \u001b[38;5;34m1\u001b[0m)         │          \u001b[38;5;34m0\u001b[0m │ -                 │\n",
       "│ (\u001b[38;5;33mActivation\u001b[0m)        │                   │            │                   │\n",
       "└─────────────────────┴───────────────────┴────────────┴───────────────────┘\n"
      ]
     },
     "metadata": {},
     "output_type": "display_data"
    },
    {
     "data": {
      "text/html": [
       "<pre style=\"white-space:pre;overflow-x:auto;line-height:normal;font-family:Menlo,'DejaVu Sans Mono',consolas,'Courier New',monospace\"><span style=\"font-weight: bold\"> Total params: </span><span style=\"color: #00af00; text-decoration-color: #00af00\">1,554</span> (6.07 KB)\n",
       "</pre>\n"
      ],
      "text/plain": [
       "\u001b[1m Total params: \u001b[0m\u001b[38;5;34m1,554\u001b[0m (6.07 KB)\n"
      ]
     },
     "metadata": {},
     "output_type": "display_data"
    },
    {
     "data": {
      "text/html": [
       "<pre style=\"white-space:pre;overflow-x:auto;line-height:normal;font-family:Menlo,'DejaVu Sans Mono',consolas,'Courier New',monospace\"><span style=\"font-weight: bold\"> Trainable params: </span><span style=\"color: #00af00; text-decoration-color: #00af00\">1,534</span> (5.99 KB)\n",
       "</pre>\n"
      ],
      "text/plain": [
       "\u001b[1m Trainable params: \u001b[0m\u001b[38;5;34m1,534\u001b[0m (5.99 KB)\n"
      ]
     },
     "metadata": {},
     "output_type": "display_data"
    },
    {
     "data": {
      "text/html": [
       "<pre style=\"white-space:pre;overflow-x:auto;line-height:normal;font-family:Menlo,'DejaVu Sans Mono',consolas,'Courier New',monospace\"><span style=\"font-weight: bold\"> Non-trainable params: </span><span style=\"color: #00af00; text-decoration-color: #00af00\">20</span> (80.00 B)\n",
       "</pre>\n"
      ],
      "text/plain": [
       "\u001b[1m Non-trainable params: \u001b[0m\u001b[38;5;34m20\u001b[0m (80.00 B)\n"
      ]
     },
     "metadata": {},
     "output_type": "display_data"
    }
   ],
   "source": [
    "gan.summary(expand_nested=True)"
   ]
  },
  {
   "cell_type": "code",
   "execution_count": 25,
   "metadata": {},
   "outputs": [],
   "source": [
    "STD_DEV = 1.5 # You can stablish the fake samples variability by setting this value\n",
    "noise = np.random.normal(0, STD_DEV, (50000, 100))"
   ]
  },
  {
   "cell_type": "code",
   "execution_count": 26,
   "metadata": {},
   "outputs": [],
   "source": [
    "augmented = gan.predict(noise).numpy()"
   ]
  },
  {
   "cell_type": "code",
   "execution_count": 27,
   "metadata": {},
   "outputs": [],
   "source": [
    "augmented[:, -1] = MinMaxNormalization(min_val=0, max_val=5)(augmented[:, -1]).numpy()"
   ]
  },
  {
   "cell_type": "code",
   "execution_count": 28,
   "metadata": {},
   "outputs": [],
   "source": [
    "FAKE_SAMPLES = 50000\n",
    "latent_dim = 5"
   ]
  },
  {
   "cell_type": "code",
   "execution_count": 29,
   "metadata": {},
   "outputs": [
    {
     "name": "stdout",
     "output_type": "stream",
     "text": [
      "Initialization complete\n",
      "Iteration 0, inertia 18.62461280822754.\n",
      "Iteration 1, inertia 17.08466339111328.\n",
      "Iteration 2, inertia 16.681238174438477.\n",
      "Iteration 3, inertia 16.490314483642578.\n",
      "Iteration 4, inertia 16.36307716369629.\n",
      "Iteration 5, inertia 16.270465850830078.\n",
      "Iteration 6, inertia 16.20012664794922.\n",
      "Iteration 7, inertia 16.145320892333984.\n",
      "Iteration 8, inertia 16.103849411010742.\n",
      "Iteration 9, inertia 16.068416595458984.\n",
      "Iteration 10, inertia 16.036890029907227.\n",
      "Iteration 11, inertia 16.007793426513672.\n",
      "Iteration 12, inertia 15.982200622558594.\n",
      "Iteration 13, inertia 15.962409973144531.\n",
      "Iteration 14, inertia 15.946930885314941.\n",
      "Iteration 15, inertia 15.932960510253906.\n",
      "Iteration 16, inertia 15.920207023620605.\n",
      "Iteration 17, inertia 15.907771110534668.\n",
      "Iteration 18, inertia 15.895023345947266.\n",
      "Iteration 19, inertia 15.880699157714844.\n",
      "Iteration 20, inertia 15.867758750915527.\n",
      "Iteration 21, inertia 15.858323097229004.\n",
      "Iteration 22, inertia 15.850574493408203.\n",
      "Iteration 23, inertia 15.84329605102539.\n",
      "Iteration 24, inertia 15.835830688476562.\n",
      "Iteration 25, inertia 15.829439163208008.\n",
      "Iteration 26, inertia 15.823637008666992.\n",
      "Iteration 27, inertia 15.81859302520752.\n",
      "Iteration 28, inertia 15.813667297363281.\n",
      "Iteration 29, inertia 15.808954238891602.\n",
      "Iteration 30, inertia 15.804659843444824.\n",
      "Iteration 31, inertia 15.80096435546875.\n",
      "Iteration 32, inertia 15.797839164733887.\n",
      "Iteration 33, inertia 15.795038223266602.\n",
      "Iteration 34, inertia 15.792378425598145.\n",
      "Iteration 35, inertia 15.790117263793945.\n",
      "Iteration 36, inertia 15.787696838378906.\n",
      "Iteration 37, inertia 15.785684585571289.\n",
      "Iteration 38, inertia 15.783845901489258.\n",
      "Iteration 39, inertia 15.78144645690918.\n",
      "Iteration 40, inertia 15.779108047485352.\n",
      "Iteration 41, inertia 15.77668571472168.\n",
      "Iteration 42, inertia 15.774407386779785.\n",
      "Iteration 43, inertia 15.772268295288086.\n",
      "Iteration 44, inertia 15.770240783691406.\n",
      "Iteration 45, inertia 15.76842212677002.\n",
      "Iteration 46, inertia 15.7666654586792.\n",
      "Iteration 47, inertia 15.765042304992676.\n",
      "Iteration 48, inertia 15.763341903686523.\n",
      "Iteration 49, inertia 15.761955261230469.\n",
      "Iteration 50, inertia 15.760648727416992.\n",
      "Iteration 51, inertia 15.759514808654785.\n",
      "Iteration 52, inertia 15.758539199829102.\n",
      "Iteration 53, inertia 15.757166862487793.\n",
      "Iteration 54, inertia 15.755847930908203.\n",
      "Iteration 55, inertia 15.754365921020508.\n",
      "Iteration 56, inertia 15.753047943115234.\n",
      "Iteration 57, inertia 15.751955032348633.\n",
      "Iteration 58, inertia 15.750894546508789.\n",
      "Iteration 59, inertia 15.749798774719238.\n",
      "Iteration 60, inertia 15.749074935913086.\n",
      "Iteration 61, inertia 15.748483657836914.\n",
      "Iteration 62, inertia 15.74797248840332.\n",
      "Iteration 63, inertia 15.747608184814453.\n",
      "Iteration 64, inertia 15.747123718261719.\n",
      "Iteration 65, inertia 15.746550559997559.\n",
      "Iteration 66, inertia 15.74588680267334.\n",
      "Iteration 67, inertia 15.745294570922852.\n",
      "Iteration 68, inertia 15.744768142700195.\n",
      "Iteration 69, inertia 15.744120597839355.\n",
      "Iteration 70, inertia 15.743465423583984.\n",
      "Iteration 71, inertia 15.742753028869629.\n",
      "Iteration 72, inertia 15.741950035095215.\n",
      "Iteration 73, inertia 15.741247177124023.\n",
      "Iteration 74, inertia 15.740787506103516.\n",
      "Iteration 75, inertia 15.740193367004395.\n",
      "Iteration 76, inertia 15.739340782165527.\n",
      "Iteration 77, inertia 15.7387056350708.\n",
      "Iteration 78, inertia 15.73830509185791.\n",
      "Iteration 79, inertia 15.737882614135742.\n",
      "Iteration 80, inertia 15.737631797790527.\n",
      "Iteration 81, inertia 15.737475395202637.\n",
      "Iteration 82, inertia 15.737354278564453.\n",
      "Iteration 83, inertia 15.737225532531738.\n",
      "Iteration 84, inertia 15.736940383911133.\n",
      "Iteration 85, inertia 15.736724853515625.\n",
      "Iteration 86, inertia 15.736562728881836.\n",
      "Iteration 87, inertia 15.73648452758789.\n",
      "Iteration 88, inertia 15.73636531829834.\n",
      "Iteration 89, inertia 15.736214637756348.\n",
      "Iteration 90, inertia 15.736032485961914.\n",
      "Iteration 91, inertia 15.735875129699707.\n",
      "Iteration 92, inertia 15.735722541809082.\n",
      "Iteration 93, inertia 15.735663414001465.\n",
      "Iteration 94, inertia 15.735514640808105.\n",
      "Iteration 95, inertia 15.73543930053711.\n",
      "Iteration 96, inertia 15.735368728637695.\n",
      "Iteration 97, inertia 15.735281944274902.\n",
      "Iteration 98, inertia 15.735231399536133.\n",
      "Iteration 99, inertia 15.735172271728516.\n",
      "end cluster users: 500\n",
      "Initialization complete\n",
      "Iteration 0, inertia 13.66263484954834.\n",
      "Iteration 1, inertia 12.550884246826172.\n",
      "Iteration 2, inertia 12.210672378540039.\n",
      "Iteration 3, inertia 12.032855987548828.\n",
      "Iteration 4, inertia 11.928261756896973.\n",
      "Iteration 5, inertia 11.859996795654297.\n",
      "Iteration 6, inertia 11.810858726501465.\n",
      "Iteration 7, inertia 11.774138450622559.\n",
      "Iteration 8, inertia 11.744997024536133.\n",
      "Iteration 9, inertia 11.720157623291016.\n",
      "Iteration 10, inertia 11.700067520141602.\n",
      "Iteration 11, inertia 11.68233871459961.\n",
      "Iteration 12, inertia 11.66779899597168.\n",
      "Iteration 13, inertia 11.655818939208984.\n",
      "Iteration 14, inertia 11.64490032196045.\n",
      "Iteration 15, inertia 11.636061668395996.\n",
      "Iteration 16, inertia 11.62869930267334.\n",
      "Iteration 17, inertia 11.622647285461426.\n",
      "Iteration 18, inertia 11.617775917053223.\n",
      "Iteration 19, inertia 11.612754821777344.\n",
      "Iteration 20, inertia 11.608089447021484.\n",
      "Iteration 21, inertia 11.604413986206055.\n",
      "Iteration 22, inertia 11.601020812988281.\n",
      "Iteration 23, inertia 11.598376274108887.\n",
      "Iteration 24, inertia 11.595582962036133.\n",
      "Iteration 25, inertia 11.592798233032227.\n",
      "Iteration 26, inertia 11.590388298034668.\n",
      "Iteration 27, inertia 11.588769912719727.\n",
      "Iteration 28, inertia 11.587310791015625.\n",
      "Iteration 29, inertia 11.586438179016113.\n",
      "Iteration 30, inertia 11.58554458618164.\n",
      "Iteration 31, inertia 11.584694862365723.\n",
      "Iteration 32, inertia 11.584054946899414.\n",
      "Iteration 33, inertia 11.583527565002441.\n",
      "Iteration 34, inertia 11.583102226257324.\n",
      "Iteration 35, inertia 11.582539558410645.\n",
      "Iteration 36, inertia 11.582042694091797.\n",
      "Iteration 37, inertia 11.581535339355469.\n",
      "Iteration 38, inertia 11.581295013427734.\n",
      "Iteration 39, inertia 11.581148147583008.\n",
      "Iteration 40, inertia 11.581018447875977.\n",
      "Iteration 41, inertia 11.580757141113281.\n",
      "Iteration 42, inertia 11.580585479736328.\n",
      "Iteration 43, inertia 11.580448150634766.\n",
      "Iteration 44, inertia 11.580331802368164.\n",
      "Iteration 45, inertia 11.580240249633789.\n",
      "Iteration 46, inertia 11.580190658569336.\n",
      "Converged at iteration 46: center shift 1.4331541819956328e-07 within tolerance 1.639961963519454e-07.\n",
      "end cluster users: 1000\n",
      "Initialization complete\n",
      "Iteration 0, inertia 9.333739280700684.\n",
      "Iteration 1, inertia 8.427042007446289.\n",
      "Iteration 2, inertia 8.197087287902832.\n",
      "Iteration 3, inertia 8.079024314880371.\n",
      "Iteration 4, inertia 8.002199172973633.\n",
      "Iteration 5, inertia 7.948832988739014.\n",
      "Iteration 6, inertia 7.909475326538086.\n",
      "Iteration 7, inertia 7.880971908569336.\n",
      "Iteration 8, inertia 7.858260154724121.\n",
      "Iteration 9, inertia 7.841573715209961.\n",
      "Iteration 10, inertia 7.828563690185547.\n",
      "Iteration 11, inertia 7.8179216384887695.\n",
      "Iteration 12, inertia 7.809317588806152.\n",
      "Iteration 13, inertia 7.802584648132324.\n",
      "Iteration 14, inertia 7.796146392822266.\n",
      "Iteration 15, inertia 7.790699481964111.\n",
      "Iteration 16, inertia 7.785073757171631.\n",
      "Iteration 17, inertia 7.780176639556885.\n",
      "Iteration 18, inertia 7.775360584259033.\n",
      "Iteration 19, inertia 7.77107048034668.\n",
      "Iteration 20, inertia 7.767292022705078.\n",
      "Iteration 21, inertia 7.763356685638428.\n",
      "Iteration 22, inertia 7.7599687576293945.\n",
      "Iteration 23, inertia 7.757341384887695.\n",
      "Iteration 24, inertia 7.755159378051758.\n",
      "Iteration 25, inertia 7.752988815307617.\n",
      "Iteration 26, inertia 7.751112937927246.\n",
      "Iteration 27, inertia 7.74941349029541.\n",
      "Iteration 28, inertia 7.748035430908203.\n",
      "Iteration 29, inertia 7.7469482421875.\n",
      "Iteration 30, inertia 7.74609375.\n",
      "Iteration 31, inertia 7.745246410369873.\n",
      "Iteration 32, inertia 7.744193077087402.\n",
      "Iteration 33, inertia 7.7429304122924805.\n",
      "Iteration 34, inertia 7.741763114929199.\n",
      "Iteration 35, inertia 7.740933418273926.\n",
      "Iteration 36, inertia 7.740414619445801.\n",
      "Iteration 37, inertia 7.739886283874512.\n",
      "Iteration 38, inertia 7.739434242248535.\n",
      "Iteration 39, inertia 7.73929500579834.\n",
      "Iteration 40, inertia 7.7390336990356445.\n",
      "Iteration 41, inertia 7.738851547241211.\n",
      "Iteration 42, inertia 7.738716125488281.\n",
      "Iteration 43, inertia 7.7385945320129395.\n",
      "Iteration 44, inertia 7.73857307434082.\n",
      "Converged at iteration 44: center shift 1.5185538870809978e-07 within tolerance 1.7458992078900339e-07.\n",
      "end cluster items: 1000\n",
      "Initialization complete\n",
      "Iteration 0, inertia 6.496947288513184.\n",
      "Iteration 1, inertia 5.779519081115723.\n",
      "Iteration 2, inertia 5.606207847595215.\n",
      "Iteration 3, inertia 5.522168159484863.\n",
      "Iteration 4, inertia 5.472639560699463.\n",
      "Iteration 5, inertia 5.438434600830078.\n",
      "Iteration 6, inertia 5.416537284851074.\n",
      "Iteration 7, inertia 5.400399208068848.\n",
      "Iteration 8, inertia 5.388291358947754.\n",
      "Iteration 9, inertia 5.379884243011475.\n",
      "Iteration 10, inertia 5.373254299163818.\n",
      "Iteration 11, inertia 5.367917537689209.\n",
      "Iteration 12, inertia 5.363925933837891.\n",
      "Iteration 13, inertia 5.360608100891113.\n",
      "Iteration 14, inertia 5.357845306396484.\n",
      "Iteration 15, inertia 5.355572700500488.\n",
      "Iteration 16, inertia 5.353670120239258.\n",
      "Iteration 17, inertia 5.35200309753418.\n",
      "Iteration 18, inertia 5.350589752197266.\n",
      "Iteration 19, inertia 5.349658966064453.\n",
      "Iteration 20, inertia 5.348809242248535.\n",
      "Iteration 21, inertia 5.34793758392334.\n",
      "Iteration 22, inertia 5.34709358215332.\n",
      "Iteration 23, inertia 5.346367359161377.\n",
      "Iteration 24, inertia 5.345664978027344.\n",
      "Iteration 25, inertia 5.345160484313965.\n",
      "Iteration 26, inertia 5.344734191894531.\n",
      "Iteration 27, inertia 5.34441614151001.\n",
      "Iteration 28, inertia 5.344127178192139.\n",
      "Iteration 29, inertia 5.343892574310303.\n",
      "Iteration 30, inertia 5.343658924102783.\n",
      "Iteration 31, inertia 5.3434600830078125.\n",
      "Iteration 32, inertia 5.343268394470215.\n",
      "Iteration 33, inertia 5.343140125274658.\n",
      "Iteration 34, inertia 5.342974662780762.\n",
      "Iteration 35, inertia 5.342840194702148.\n",
      "Iteration 36, inertia 5.3427228927612305.\n",
      "Iteration 37, inertia 5.342687606811523.\n",
      "Iteration 38, inertia 5.342677116394043.\n",
      "Converged at iteration 38: strict convergence.\n",
      "end cluster items: 2000\n"
     ]
    }
   ],
   "source": [
    "from sklearn.cluster import KMeans\n",
    "\n",
    "testing_users = [500, 1000]\n",
    "testing_items = [1000, 2000]\n",
    "\n",
    "for K in testing_users:   \n",
    "    clustering_users = KMeans(n_clusters=K, n_init=1, max_iter= 100, verbose=1)\n",
    "    cluster_users = clustering_users.fit_predict(augmented[:FAKE_SAMPLES,:latent_dim])  \n",
    "    np.save('cluster_users' + str(FAKE_SAMPLES) + '_' + str(K), cluster_users)  \n",
    "    print(\"end cluster users: \" + str(K))\n",
    "\n",
    "for K in testing_items:   \n",
    "    clustering_items = KMeans(n_clusters=K, n_init=1, max_iter= 100, verbose=1)\n",
    "    cluster_items = clustering_items.fit_predict(augmented[:FAKE_SAMPLES,latent_dim:-1])  \n",
    "    np.save('cluster_items' + str(FAKE_SAMPLES) + '_' + str(K), cluster_items)   \n",
    "    print(\"end cluster items: \" + str(K))"
   ]
  },
  {
   "cell_type": "code",
   "execution_count": 30,
   "metadata": {},
   "outputs": [
    {
     "name": "stdout",
     "output_type": "stream",
     "text": [
      "synthetic dataset 500, 1000 has been created\n",
      "synthetic dataset 500, 2000 has been created\n",
      "synthetic dataset 1000, 1000 has been created\n",
      "synthetic dataset 1000, 2000 has been created\n"
     ]
    }
   ],
   "source": [
    "for Ku in testing_users:\n",
    "    cluster_users = np.load('cluster_users' + str(FAKE_SAMPLES) + '_' + str(Ku)+'.npy')\n",
    "    for Ki in testing_items:\n",
    "        cluster_items = np.load('cluster_items' + str(FAKE_SAMPLES) + '_' + str(Ki)+'.npy')\n",
    "        f = open ('synthetic_'+str(FAKE_SAMPLES)+'_'+str(Ku)+'_'+str(Ki)+'.txt','w')\n",
    "        f.write('user,item,rating\\n')\n",
    "        \n",
    "        for i in range(FAKE_SAMPLES):\n",
    "            us = str(cluster_users[i])\n",
    "            it = str(cluster_items[i])\n",
    "            ra = augmented[i,-1:][0]\n",
    "            if ra > 5.:\n",
    "                ra = 5\n",
    "            elif ra < 1:\n",
    "                ra = 1\n",
    "            else:\n",
    "                ra = np.round(ra)\n",
    "            f.write(us + \",\" + it + \",\" + str(ra) + \"\\n\")\n",
    "        f.close()\n",
    "        print(\"synthetic dataset \" + str(Ku) + ', ' + str(Ki) + \" has been created\")\n",
    "      "
   ]
  },
  {
   "cell_type": "code",
   "execution_count": 31,
   "metadata": {},
   "outputs": [],
   "source": [
    "df = pd.read_csv('synthetic_50000_500_1000.txt')"
   ]
  },
  {
   "cell_type": "code",
   "execution_count": 32,
   "metadata": {},
   "outputs": [
    {
     "data": {
      "image/png": "[encoded data removed]",
      "text/plain": [
       "<Figure size 1000x500 with 1 Axes>"
      ]
     },
     "metadata": {},
     "output_type": "display_data"
    }
   ],
   "source": [
    "plot_ratings_distribution(df)"
   ]
  },
  {
   "cell_type": "code",
   "execution_count": null,
   "metadata": {},
   "outputs": [],
   "source": []
  }
 ],
 "metadata": {
  "kernelspec": {
   "display_name": "Python 3",
   "language": "python",
   "name": "python3"
  },
  "language_info": {
   "codemirror_mode": {
    "name": "ipython",
    "version": 3
   },
   "file_extension": ".py",
   "mimetype": "text/x-python",
   "name": "python",
   "nbconvert_exporter": "python",
   "pygments_lexer": "ipython3",
   "version": "3.11.7"
  }
 },
 "nbformat": 4,
 "nbformat_minor": 2
}
